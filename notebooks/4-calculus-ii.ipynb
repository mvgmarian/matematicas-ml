{
  "nbformat": 4,
  "nbformat_minor": 0,
  "metadata": {
    "colab": {
      "provenance": [],
      "include_colab_link": true
    },
    "kernelspec": {
      "display_name": "Python 3",
      "language": "python",
      "name": "python3"
    },
    "language_info": {
      "codemirror_mode": {
        "name": "ipython",
        "version": 3
      },
      "file_extension": ".py",
      "mimetype": "text/x-python",
      "name": "python",
      "nbconvert_exporter": "python",
      "pygments_lexer": "ipython3",
      "version": "3.7.6"
    }
  },
  "cells": [
    {
      "cell_type": "markdown",
      "metadata": {
        "id": "view-in-github",
        "colab_type": "text"
      },
      "source": [
        "<a href=\"https://colab.research.google.com/github/mvgmarian/matematicas-ml/blob/master/notebooks/4-calculus-ii.ipynb\" target=\"_parent\"><img src=\"https://colab.research.google.com/assets/colab-badge.svg\" alt=\"Open In Colab\"/></a>"
      ]
    },
    {
      "cell_type": "markdown",
      "metadata": {
        "id": "aTOLgsbN69-P"
      },
      "source": [
        "# Cálculo II: Derivadas parciales e integrales"
      ]
    },
    {
      "cell_type": "markdown",
      "metadata": {
        "id": "yqUB9FTRAxd-"
      },
      "source": [
        "Esta clase, *Cálculo II: Derivadas Parciales e Integrales*, se basa en el cálculo de derivadas de una sola variable para introducir los gradientes y el cálculo integral. Los gradientes de aprendizaje, facilitados por el cálculo de derivadas parciales, son la base del entrenamiento con datos de la mayoría de los algoritmos de aprendizaje automático, es decir, el descenso de gradiente estocástico (SGD). Combinado con el principio de la regla de la cadena (también tratado en esta clase), el SGD permite al algoritmo de retropropagación entrenar redes neuronales profundas.\n",
        "\n",
        "El cálculo integral, por su parte, resulta útil para innumerables tareas relacionadas con el aprendizaje automático, como encontrar el área bajo la denominada «curva ROC», una métrica predominante para evaluar modelos de clasificación. El contenido de esta clase es fundamental para otras clases de la serie *Fundamentos del aprendizaje automático*, especialmente *Probabilidad y teoría de la información* y *Optimización*."
      ]
    },
    {
      "cell_type": "markdown",
      "metadata": {
        "id": "d4tBvI88BheF"
      },
      "source": [
        "En el transcurso del estudio de este tema, usted:\n",
        "\n",
        "* Desarrollar una comprensión de lo que está pasando bajo el capó de los algoritmos de aprendizaje automático, incluidos los utilizados para el aprendizaje profundo.\n",
        "* Ser capaz de comprender los detalles de la derivada parcial, cálculo multivariante que es común en los documentos de aprendizaje automático, así como muchos en otros temas que subyacen ML, incluyendo la teoría de la información y algoritmos de optimización.\n",
        "* Utilizar el cálculo integral para determinar el área bajo cualquier curva dada, una tarea recurrente en ML aplicada, por ejemplo, para evaluar el rendimiento del modelo mediante el cálculo de la métrica ROC AUC."
      ]
    },
    {
      "cell_type": "markdown",
      "metadata": {
        "id": "Z68nQ0ekCYhF"
      },
      "source": [
        "**Tenga en cuenta que este cuaderno Jupyter no está diseñado para funcionar por sí solo. Es el código que acompaña a una clase o a los vídeos de la serie [Machine Learning Foundations](https://github.com/jonkrohn/ML-foundations) de Jon Krohn, que ofrecen detalles sobre lo siguiente:**\n",
        "\n",
        "*Segmento 1: Repaso de Cálculo Introductorio*.\n",
        "\n",
        "* El método Delta\n",
        "* Diferenciación con reglas\n",
        "* AutoDiff: Diferenciación Automática\n",
        "\n",
        "\n",
        "*Segmento 2: Gradientes de Aprendizaje Automático*\n",
        "\n",
        "* Derivadas Parciales de Funciones Multivariantes\n",
        "* La regla de la cadena de derivadas parciales\n",
        "* Coste Cuadrático\n",
        "* Gradientes\n",
        "* Gradient Descent\n",
        "* Backpropagation\n",
        "* Derivadas parciales de orden superior\n",
        "\n",
        "\n",
        "*Segmento 3: Integrales*\n",
        "\n",
        "* Clasificación binaria\n",
        "* La matriz de confusión\n",
        "* La curva ROC (Receiver-Operating Characteristic)\n",
        "* Cálculo manual de integrales\n",
        "* Integración numérica con Python\n",
        "* Hallar el área bajo la curva ROC\n",
        "* Recursos para profundizar en el cálculo"
      ]
    },
    {
      "cell_type": "markdown",
      "metadata": {
        "id": "qMomz4o6DoeT"
      },
      "source": [
        "## Segmento 1: Repaso de Cálculo Introductorio"
      ]
    },
    {
      "cell_type": "markdown",
      "metadata": {
        "id": "yeOe0DrkDoeT"
      },
      "source": [
        "Revisar el notebook de [*Regresión en Pytorch* ](https://github.com/joanby/matematicas-ml/blob/master/notebooks/regression-in-pytorch.ipynb)."
      ]
    },
    {
      "cell_type": "markdown",
      "metadata": {
        "id": "9v7wHzEaDoeT"
      },
      "source": [
        "## Segmento 2: Gradientes aplicados al Machine Learning"
      ]
    },
    {
      "cell_type": "code",
      "metadata": {
        "id": "-09IzaDRDoeU"
      },
      "source": [
        "import numpy as np\n",
        "import matplotlib.pyplot as plt\n",
        "import torch\n",
        "import math # para la constante PI"
      ],
      "execution_count": 1,
      "outputs": []
    },
    {
      "cell_type": "markdown",
      "metadata": {
        "id": "gmonXg8-DoeV"
      },
      "source": [
        "### Derivadas parciales de funciones multivariantes"
      ]
    },
    {
      "cell_type": "markdown",
      "metadata": {
        "id": "jt2Fb7bmDoeV"
      },
      "source": [
        "Definimos la función $f(x, y)$ para $z = x^2 - y^2$:"
      ]
    },
    {
      "cell_type": "code",
      "metadata": {
        "id": "Xb_f6pUYDoeV"
      },
      "source": [
        "def f(my_x, my_y):\n",
        "    return my_x**2 - my_y**2"
      ],
      "execution_count": 2,
      "outputs": []
    },
    {
      "cell_type": "markdown",
      "metadata": {
        "id": "2Yxx42_UDoeV"
      },
      "source": [
        "Traza $z$ con respecto a $x$ variando $x$..."
      ]
    },
    {
      "cell_type": "code",
      "metadata": {
        "id": "Toba6LVQDoeW"
      },
      "source": [
        "xs = np.linspace(-3, 3, 1000)"
      ],
      "execution_count": 3,
      "outputs": []
    },
    {
      "cell_type": "markdown",
      "metadata": {
        "id": "Sazf_xu9DoeW"
      },
      "source": [
        "...mientras mantenemos $y$ constante (por ejemplo en $y = 0$):"
      ]
    },
    {
      "cell_type": "code",
      "metadata": {
        "id": "9Z31rNZvDoeW"
      },
      "source": [
        "zs_wrt_x = f(xs, 0)"
      ],
      "execution_count": 4,
      "outputs": []
    },
    {
      "cell_type": "code",
      "metadata": {
        "colab": {
          "base_uri": "https://localhost:8080/",
          "height": 279
        },
        "id": "qdZ6Rdr4DoeX",
        "outputId": "fc25527e-3fe2-46a6-fff1-d87a9d3239b7"
      },
      "source": [
        "fig, ax = plt.subplots()\n",
        "plt.axvline(x=0, color='lightgray')\n",
        "plt.axhline(y=0, color='lightgray')\n",
        "\n",
        "plt.xlabel('x')\n",
        "plt.ylabel('z', rotation=0)\n",
        "_ = ax.plot(xs, zs_wrt_x)"
      ],
      "execution_count": null,
      "outputs": [
        {
          "output_type": "display_data",
          "data": {
            "image/png": "[encoded data removed]",
            "text/plain": [
              "<Figure size 432x288 with 1 Axes>"
            ]
          },
          "metadata": {
            "needs_background": "light"
          }
        }
      ]
    },
    {
      "cell_type": "markdown",
      "metadata": {
        "id": "TctSbA-VDoeY"
      },
      "source": [
        "Para determinar la pendiente de $z$ respecto a $x$ en un punto dado de la curva, podemos utilizar la derivada parcial de las diapositivas: $$ \\frac{\\partial z}{\\partial x} = 2x$$"
      ]
    },
    {
      "cell_type": "code",
      "metadata": {
        "id": "WM2UTR4DDoeY"
      },
      "source": [
        "def delz_delx(my_x, my_y): # y no es relevante para *esta* derivada parcial; a menudo lo será\n",
        "    return 2*my_x"
      ],
      "execution_count": 5,
      "outputs": []
    },
    {
      "cell_type": "code",
      "metadata": {
        "id": "NqarAEMODoeY"
      },
      "source": [
        "x_samples = [-2, -1, 0, 1, 2]"
      ],
      "execution_count": 6,
      "outputs": []
    },
    {
      "cell_type": "code",
      "metadata": {
        "id": "ExzFLbjODoeY"
      },
      "source": [
        "colors = ['red', 'orange', 'green', 'blue', 'purple']"
      ],
      "execution_count": 9,
      "outputs": []
    },
    {
      "cell_type": "code",
      "metadata": {
        "id": "rPeZ7Qf0DoeZ"
      },
      "source": [
        "def point_and_tangent_wrt_x(my_xs, my_x, my_y, my_f, fprime, col):\n",
        "\n",
        "    my_z = my_f(my_x, my_y) # z = f(x, y)\n",
        "    plt.scatter(my_x, my_z, c=col, zorder=3)\n",
        "\n",
        "    tangent_m = fprime(my_x, my_y) # La pendiente es la derivada parcial de f(x, y) con respecto a x\n",
        "    tangent_b = my_z - tangent_m*my_x # La recta es z=mx+b, por tanto b=z-mx\n",
        "    tangent_line = tangent_m*my_xs + tangent_b\n",
        "\n",
        "    plt.plot(my_xs, tangent_line, c=col,\n",
        "             linestyle='dashed', linewidth=0.7, zorder=3)"
      ],
      "execution_count": 7,
      "outputs": []
    },
    {
      "cell_type": "code",
      "metadata": {
        "colab": {
          "base_uri": "https://localhost:8080/",
          "height": 449
        },
        "id": "e3O2HIInDoeZ",
        "outputId": "4a2bb006-521e-4628-95f8-6c08f64f8612"
      },
      "source": [
        "fig, ax = plt.subplots()\n",
        "plt.axvline(x=0, color='lightgray')\n",
        "plt.axhline(y=0, color='lightgray')\n",
        "\n",
        "for i, x in enumerate(x_samples):\n",
        "    point_and_tangent_wrt_x(xs, x, 0, f, delz_delx, colors[i])\n",
        "\n",
        "plt.ylim(-1, 9)\n",
        "plt.xlabel('x')\n",
        "plt.ylabel('z', rotation=0)\n",
        "_ = ax.plot(xs, zs_wrt_x)"
      ],
      "execution_count": 10,
      "outputs": [
        {
          "output_type": "display_data",
          "data": {
            "text/plain": [
              "<Figure size 640x480 with 1 Axes>"
            ],
            "image/png": "[encoded data removed]"
          },
          "metadata": {}
        }
      ]
    },
    {
      "cell_type": "markdown",
      "metadata": {
        "id": "a8IJZYZfDoeZ"
      },
      "source": [
        "Demostrando así visualmente $\\frac{\\partial z}{\\partial x} = 2x$.\n",
        "\n",
        "Es decir, la pendiente de $z$ a lo largo del eje $x$ es *dos veces* el valor de $x$."
      ]
    },
    {
      "cell_type": "markdown",
      "metadata": {
        "id": "3Vxr1W0IDoea"
      },
      "source": [
        "**Volver a las slides.**"
      ]
    },
    {
      "cell_type": "markdown",
      "metadata": {
        "id": "ZEVnit5gDoea"
      },
      "source": [
        "Ahora vamos a representar $z$ con respecto a $y$ variando $y$..."
      ]
    },
    {
      "cell_type": "code",
      "metadata": {
        "id": "ZZF8285-Doea"
      },
      "source": [
        "ys = np.linspace(-3, 3, 1000)"
      ],
      "execution_count": 13,
      "outputs": []
    },
    {
      "cell_type": "markdown",
      "metadata": {
        "id": "CSzx8uhLDoea"
      },
      "source": [
        "...mientras mantenemos $x$ constantw (es decir, por ejemplo $x$ = 0):"
      ]
    },
    {
      "cell_type": "code",
      "metadata": {
        "id": "D7L4yZ1aDoeb"
      },
      "source": [
        "zs_wrt_y = f(0, ys)"
      ],
      "execution_count": 14,
      "outputs": []
    },
    {
      "cell_type": "code",
      "metadata": {
        "colab": {
          "base_uri": "https://localhost:8080/",
          "height": 449
        },
        "id": "rGNORzJCDoeb",
        "outputId": "370f6ac1-9e80-4f4b-bfcf-0b9569f22b68"
      },
      "source": [
        "fig, ax = plt.subplots()\n",
        "plt.axvline(x=0, color='lightgray')\n",
        "plt.axhline(y=0, color='lightgray')\n",
        "\n",
        "plt.xlabel('y')\n",
        "plt.ylabel('z', rotation=0)\n",
        "_ = ax.plot(ys, zs_wrt_y)"
      ],
      "execution_count": 15,
      "outputs": [
        {
          "output_type": "display_data",
          "data": {
            "text/plain": [
              "<Figure size 640x480 with 1 Axes>"
            ],
            "image/png": "[encoded data removed]"
          },
          "metadata": {}
        }
      ]
    },
    {
      "cell_type": "markdown",
      "metadata": {
        "id": "yftPl60zDoeb"
      },
      "source": [
        "Como en las diapositivas, la derivada parcial de $z$ respecto a $y$ resulta ser independiente de $x$ (igual que antes observamos que $x$ es independiente de $y$), por lo que mientras $z$ varía en función tanto de $x$ como de $y$, la pendiente de $z$ respecto a $y$ es la misma sea cual sea $x$: $$ \\frac{\\partial z}{\\partial y} = -2y $$"
      ]
    },
    {
      "cell_type": "markdown",
      "metadata": {
        "id": "xX3gAdyWDoec"
      },
      "source": [
        "Así, por ejemplo, mantener $x$ constante en 2 en lugar de 0 aumenta $z$, pero no tiene ningún impacto en la pendiente de $z$ respecto a $y$:"
      ]
    },
    {
      "cell_type": "code",
      "metadata": {
        "id": "sdaSBdlrDoec"
      },
      "source": [
        "zs_wrt_y = f(2, ys)"
      ],
      "execution_count": 16,
      "outputs": []
    },
    {
      "cell_type": "code",
      "metadata": {
        "colab": {
          "base_uri": "https://localhost:8080/",
          "height": 449
        },
        "id": "5PW49KD7Doec",
        "outputId": "1fd07d88-e14a-4998-83da-44b03b3c86fd"
      },
      "source": [
        "fig, ax = plt.subplots()\n",
        "plt.axvline(x=0, color='lightgray')\n",
        "plt.axhline(y=0, color='lightgray')\n",
        "\n",
        "plt.xlabel('y')\n",
        "plt.ylabel('z', rotation=0)\n",
        "_ = ax.plot(ys, zs_wrt_y)"
      ],
      "execution_count": 17,
      "outputs": [
        {
          "output_type": "display_data",
          "data": {
            "text/plain": [
              "<Figure size 640x480 with 1 Axes>"
            ],
            "image/png": "[encoded data removed]"
          },
          "metadata": {}
        }
      ]
    },
    {
      "cell_type": "code",
      "metadata": {
        "id": "8vMax3uODoec"
      },
      "source": [
        "def delz_dely(my_x, my_y):\n",
        "    return -2*my_y"
      ],
      "execution_count": 18,
      "outputs": []
    },
    {
      "cell_type": "code",
      "metadata": {
        "id": "pkQ4GQyBDoed"
      },
      "source": [
        "y_samples = [-2, -1, 0, 1, 2]"
      ],
      "execution_count": 19,
      "outputs": []
    },
    {
      "cell_type": "code",
      "metadata": {
        "id": "YxsR448zDoed"
      },
      "source": [
        "def point_and_tangent_wrt_y(my_ys, my_x, my_y, my_f, fprime, col): # cambiamos my_xs por my_ys\n",
        "\n",
        "    my_z = my_f(my_x, my_y)\n",
        "    plt.scatter(my_y, my_z, c=col, zorder=3) # cambiamos my_x por my_y\n",
        "\n",
        "    tangent_m = fprime(my_x, my_y)\n",
        "    tangent_b = my_z - tangent_m*my_y # cambiamos my_x por my_y\n",
        "    tangent_line = tangent_m*my_ys + tangent_b # cambiamos my_xs por my_ys\n",
        "\n",
        "    plt.plot(my_ys, tangent_line, c=col,\n",
        "             linestyle='dashed', linewidth=0.7, zorder=3) # cambiamos my_xs por my_ys"
      ],
      "execution_count": 20,
      "outputs": []
    },
    {
      "cell_type": "code",
      "metadata": {
        "colab": {
          "base_uri": "https://localhost:8080/",
          "height": 449
        },
        "id": "_8EXlci4Doed",
        "outputId": "aa2b6412-0fa7-42d5-e2c6-af814fbc06eb"
      },
      "source": [
        "fig, ax = plt.subplots()\n",
        "plt.axvline(x=0, color='lightgray')\n",
        "plt.axhline(y=0, color='lightgray')\n",
        "\n",
        "for i, y in enumerate(y_samples):\n",
        "    point_and_tangent_wrt_y(ys, 2, y, f, delz_dely, colors[i])\n",
        "\n",
        "plt.ylim(-5, 5)\n",
        "plt.xlabel('y')\n",
        "plt.ylabel('z', rotation=0)\n",
        "_ = ax.plot(xs, zs_wrt_y)"
      ],
      "execution_count": 21,
      "outputs": [
        {
          "output_type": "display_data",
          "data": {
            "text/plain": [
              "<Figure size 640x480 with 1 Axes>"
            ],
            "image/png": "[encoded data removed]"
          },
          "metadata": {}
        }
      ]
    },
    {
      "cell_type": "markdown",
      "metadata": {
        "id": "ZV2FTIU66UG-"
      },
      "source": [
        "Demostrando así visualmente $\\frac{\\partial z}{\\partial y} = -2y$.\n",
        "\n",
        "Es decir, la pendiente de $z$ a lo largo del eje $y$ es *el doble* del valor de $y$ *e invertida*, lo que da lugar a que la curva parabólica se abra hacia abajo."
      ]
    },
    {
      "cell_type": "markdown",
      "metadata": {
        "id": "V7P12cWuDoef"
      },
      "source": [
        "**Ejercicios**: Usa lápiz y papel para determinar:\n",
        "\n",
        "* El valor de $z$,\n",
        "* La pendiente de $z$ con respecto a $x$,\n",
        "* Y la pendiente de $z$ con respecto a $y$\n",
        "\n",
        "...en los puntos donde:\n",
        "\n",
        "1. $x = 3, y = 0$\n",
        "2. $x = 2, y = 3$\n",
        "3. $x = -2, y = -3$"
      ]
    },
    {
      "cell_type": "markdown",
      "metadata": {
        "id": "IwiI0uisDoeg"
      },
      "source": [
        "Determinar derivadas parciales a mano utilizando reglas es útil para entender cómo funciona el cálculo. En la práctica, sin embargo, la autodiferenciación nos permite hacerlo más fácilmente (sobre todo si hay un gran número de variables). Por ejemplo, utilicemos la biblioteca de diferenciación automática PyTorch para calcular la pendiente de $z$ con respecto a $x$ e $y$ en un punto cualquiera $(x, y, z)$:"
      ]
    },
    {
      "cell_type": "code",
      "metadata": {
        "colab": {
          "base_uri": "https://localhost:8080/"
        },
        "id": "SHeFsRfrDoeg",
        "outputId": "f209a0ff-5de7-492a-e094-2494c92e1fe9"
      },
      "source": [
        "x = torch.tensor(0.).requires_grad_()\n",
        "x"
      ],
      "execution_count": 22,
      "outputs": [
        {
          "output_type": "execute_result",
          "data": {
            "text/plain": [
              "tensor(0., requires_grad=True)"
            ]
          },
          "metadata": {},
          "execution_count": 22
        }
      ]
    },
    {
      "cell_type": "code",
      "metadata": {
        "colab": {
          "base_uri": "https://localhost:8080/"
        },
        "id": "WzWjTchwDoeg",
        "outputId": "7868f6d0-1c4e-4f38-8275-f95320ea8064"
      },
      "source": [
        "y = torch.tensor(0.).requires_grad_()\n",
        "y"
      ],
      "execution_count": 23,
      "outputs": [
        {
          "output_type": "execute_result",
          "data": {
            "text/plain": [
              "tensor(0., requires_grad=True)"
            ]
          },
          "metadata": {},
          "execution_count": 23
        }
      ]
    },
    {
      "cell_type": "code",
      "metadata": {
        "colab": {
          "base_uri": "https://localhost:8080/"
        },
        "id": "B7TprOE-Doeh",
        "outputId": "8e92c48d-4b53-4841-bbe6-1f72908ec356"
      },
      "source": [
        "z = f(x, y) # Forward pass\n",
        "z"
      ],
      "execution_count": 24,
      "outputs": [
        {
          "output_type": "execute_result",
          "data": {
            "text/plain": [
              "tensor(0., grad_fn=<SubBackward0>)"
            ]
          },
          "metadata": {},
          "execution_count": 24
        }
      ]
    },
    {
      "cell_type": "code",
      "metadata": {
        "id": "GyefZb67Doeh"
      },
      "source": [
        "z.backward() # Autodiff"
      ],
      "execution_count": 25,
      "outputs": []
    },
    {
      "cell_type": "markdown",
      "metadata": {
        "id": "_L7fUeBfDoeh"
      },
      "source": [
        "Como ya sabíamos por nuestros ejercicios anteriores, la pendiente del punto (0, 0, 0) es cero con respecto a los ejes $x$ e $y$:"
      ]
    },
    {
      "cell_type": "code",
      "metadata": {
        "colab": {
          "base_uri": "https://localhost:8080/"
        },
        "id": "VCX2ngT9Doeh",
        "outputId": "877d2527-aa54-4487-c500-afc22df0f4d8"
      },
      "source": [
        "x.grad"
      ],
      "execution_count": 26,
      "outputs": [
        {
          "output_type": "execute_result",
          "data": {
            "text/plain": [
              "tensor(0.)"
            ]
          },
          "metadata": {},
          "execution_count": 26
        }
      ]
    },
    {
      "cell_type": "code",
      "metadata": {
        "colab": {
          "base_uri": "https://localhost:8080/"
        },
        "id": "1DeU2IYODoei",
        "outputId": "45f008e6-c753-478b-f087-633dc110e5fb"
      },
      "source": [
        "y.grad"
      ],
      "execution_count": 27,
      "outputs": [
        {
          "output_type": "execute_result",
          "data": {
            "text/plain": [
              "tensor(-0.)"
            ]
          },
          "metadata": {},
          "execution_count": 27
        }
      ]
    },
    {
      "cell_type": "markdown",
      "metadata": {
        "id": "Eblx3YW6Doei"
      },
      "source": [
        "**Ejercicio**: Repite los ejercicios más recientes de lápiz y papel usando PyTorch (o TensorFlow, si lo prefieres)."
      ]
    },
    {
      "cell_type": "code",
      "source": [
        "#x=2, y=3\n",
        "x = torch.tensor(2.).requires_grad_()\n",
        "y = torch.tensor(3.).requires_grad_()\n",
        "z = f(x, y)\n",
        "z.backward()\n",
        "x.grad"
      ],
      "metadata": {
        "id": "UVkHuQ6R2-36",
        "outputId": "0f9687d0-0d55-48fe-f9bd-e939d47b17b7",
        "colab": {
          "base_uri": "https://localhost:8080/"
        }
      },
      "execution_count": 36,
      "outputs": [
        {
          "output_type": "execute_result",
          "data": {
            "text/plain": [
              "tensor(4.)"
            ]
          },
          "metadata": {},
          "execution_count": 36
        }
      ]
    },
    {
      "cell_type": "code",
      "source": [
        "y.grad"
      ],
      "metadata": {
        "id": "-86nv6oD3yOF",
        "outputId": "a2331f17-b84b-4515-af23-eb150d7c8ea6",
        "colab": {
          "base_uri": "https://localhost:8080/"
        }
      },
      "execution_count": 37,
      "outputs": [
        {
          "output_type": "execute_result",
          "data": {
            "text/plain": [
              "tensor(-6.)"
            ]
          },
          "metadata": {},
          "execution_count": 37
        }
      ]
    },
    {
      "cell_type": "markdown",
      "metadata": {
        "id": "LPxR9412Doei"
      },
      "source": [
        "**Volver a las slides aquí.**"
      ]
    },
    {
      "cell_type": "markdown",
      "metadata": {
        "id": "3NqDfYGeDoej"
      },
      "source": [
        "### Derivadas parciales del volumen de un cilindro"
      ]
    },
    {
      "cell_type": "markdown",
      "metadata": {
        "id": "8zOAmeOnDoej"
      },
      "source": [
        "El volumen de un cilindro se describe por $v = \\pi r^2 l$ donde:\n",
        "\n",
        "* $r$ es el radio del cilindro\n",
        "* $l$ es su altura"
      ]
    },
    {
      "cell_type": "code",
      "metadata": {
        "id": "Y345YQ2iDoej"
      },
      "source": [
        "def cylinder_vol(my_r, my_l):\n",
        "    return math.pi * my_r**2 * my_l"
      ],
      "execution_count": 28,
      "outputs": []
    },
    {
      "cell_type": "code",
      "metadata": {
        "colab": {
          "base_uri": "https://localhost:8080/"
        },
        "id": "6eGolCTLDoej",
        "outputId": "ef913620-3091-47a3-f857-9bddb2f4ecc8"
      },
      "source": [
        "# Si por ejemplo el radio es de 3 metros...\n",
        "r = torch.tensor(3.).requires_grad_()\n",
        "r"
      ],
      "execution_count": 29,
      "outputs": [
        {
          "output_type": "execute_result",
          "data": {
            "text/plain": [
              "tensor(3., requires_grad=True)"
            ]
          },
          "metadata": {},
          "execution_count": 29
        }
      ]
    },
    {
      "cell_type": "code",
      "metadata": {
        "colab": {
          "base_uri": "https://localhost:8080/"
        },
        "id": "sp3kUgQ6Doej",
        "outputId": "cd561499-b624-447a-87ee-cf5657fbab07"
      },
      "source": [
        "# ...y la altura es de 5 metros:\n",
        "l = torch.tensor(5.).requires_grad_()\n",
        "l"
      ],
      "execution_count": 30,
      "outputs": [
        {
          "output_type": "execute_result",
          "data": {
            "text/plain": [
              "tensor(5., requires_grad=True)"
            ]
          },
          "metadata": {},
          "execution_count": 30
        }
      ]
    },
    {
      "cell_type": "code",
      "metadata": {
        "colab": {
          "base_uri": "https://localhost:8080/"
        },
        "id": "5FBBkAM6Doek",
        "outputId": "3a99bf8a-3a90-423e-9f12-0fb563ca1184"
      },
      "source": [
        "# Entonces el volumen sería de 141.4 metros cúbicos:\n",
        "v = cylinder_vol(r, l)\n",
        "v"
      ],
      "execution_count": 31,
      "outputs": [
        {
          "output_type": "execute_result",
          "data": {
            "text/plain": [
              "tensor(141.3717, grad_fn=<MulBackward0>)"
            ]
          },
          "metadata": {},
          "execution_count": 31
        }
      ]
    },
    {
      "cell_type": "code",
      "metadata": {
        "id": "0iGlPQyjDoek"
      },
      "source": [
        "v.backward()"
      ],
      "execution_count": 32,
      "outputs": []
    },
    {
      "cell_type": "code",
      "metadata": {
        "colab": {
          "base_uri": "https://localhost:8080/"
        },
        "id": "YvIA09YGDoek",
        "outputId": "bcca62d5-8f3c-4866-cf78-b334aa76a9d5"
      },
      "source": [
        "l.grad"
      ],
      "execution_count": 33,
      "outputs": [
        {
          "output_type": "execute_result",
          "data": {
            "text/plain": [
              "tensor(28.2743)"
            ]
          },
          "metadata": {},
          "execution_count": 33
        }
      ]
    },
    {
      "cell_type": "markdown",
      "metadata": {
        "id": "TYD2k4J3Doel"
      },
      "source": [
        "Y como hemos visto en las transparencias: $$\\frac{\\partial v}{\\partial l} = \\pi r^2$$"
      ]
    },
    {
      "cell_type": "code",
      "metadata": {
        "colab": {
          "base_uri": "https://localhost:8080/"
        },
        "id": "q6YRwpMvDoel",
        "outputId": "ad1513dc-9d12-421e-f678-768ea34b376a"
      },
      "source": [
        "math.pi * 3**2"
      ],
      "execution_count": null,
      "outputs": [
        {
          "output_type": "execute_result",
          "data": {
            "text/plain": [
              "28.274333882308138"
            ]
          },
          "metadata": {},
          "execution_count": 32
        }
      ]
    },
    {
      "cell_type": "markdown",
      "metadata": {
        "id": "UavsjoQFDoel"
      },
      "source": [
        "Esto significa que con $r = 3$, un cambio en $l$ de una unidad corresponde a un cambio en $v$ de 28,27$\\text{m}^3$. Podemos demostrarlo nosotros mismos:"
      ]
    },
    {
      "cell_type": "code",
      "metadata": {
        "colab": {
          "base_uri": "https://localhost:8080/"
        },
        "id": "H32PplygDoel",
        "outputId": "d8aa066e-845f-409e-fc5b-0effbfc89dfc"
      },
      "source": [
        "cylinder_vol(3, 6)"
      ],
      "execution_count": null,
      "outputs": [
        {
          "output_type": "execute_result",
          "data": {
            "text/plain": [
              "169.64600329384882"
            ]
          },
          "metadata": {},
          "execution_count": 33
        }
      ]
    },
    {
      "cell_type": "code",
      "metadata": {
        "colab": {
          "base_uri": "https://localhost:8080/"
        },
        "id": "vmwxrip1Doem",
        "outputId": "01d33fa2-9643-4651-f8ac-2d477a0ce96b"
      },
      "source": [
        "cylinder_vol(3, 6) - cylinder_vol(3, 5)"
      ],
      "execution_count": null,
      "outputs": [
        {
          "output_type": "execute_result",
          "data": {
            "text/plain": [
              "28.274333882308127"
            ]
          },
          "metadata": {},
          "execution_count": 34
        }
      ]
    },
    {
      "cell_type": "code",
      "metadata": {
        "colab": {
          "base_uri": "https://localhost:8080/"
        },
        "id": "wGuDzwwxDoem",
        "outputId": "d94c0263-8313-401d-cc38-7740ddd9465d"
      },
      "source": [
        "cylinder_vol(3, 7) - cylinder_vol(3, 6)"
      ],
      "execution_count": null,
      "outputs": [
        {
          "output_type": "execute_result",
          "data": {
            "text/plain": [
              "28.274333882308156"
            ]
          },
          "metadata": {},
          "execution_count": 35
        }
      ]
    },
    {
      "cell_type": "markdown",
      "metadata": {
        "id": "aDJydipwDoel"
      },
      "source": [
        "**Volver a las slides aquí.**"
      ]
    },
    {
      "cell_type": "markdown",
      "metadata": {
        "id": "yC4GJ8iZDoem"
      },
      "source": [
        "Para cambios en $v$ con respecto a $r$ tenemos lo siguiente de las diapositivas: $$\\frac{\\parcial v}{\\parcial r} = 2 \\pi r l$$"
      ]
    },
    {
      "cell_type": "code",
      "metadata": {
        "colab": {
          "base_uri": "https://localhost:8080/"
        },
        "id": "cAVbIBiCDoen",
        "outputId": "d41c9340-c4ac-4a4c-b826-f1ba053b9382"
      },
      "source": [
        "r.grad"
      ],
      "execution_count": 38,
      "outputs": [
        {
          "output_type": "execute_result",
          "data": {
            "text/plain": [
              "tensor(94.2478)"
            ]
          },
          "metadata": {},
          "execution_count": 38
        }
      ]
    },
    {
      "cell_type": "code",
      "metadata": {
        "colab": {
          "base_uri": "https://localhost:8080/"
        },
        "id": "UzHESN6XDoen",
        "outputId": "2a338075-81d3-4857-b6a6-495e3b684bca"
      },
      "source": [
        "2 * math.pi * 3 * 5"
      ],
      "execution_count": 39,
      "outputs": [
        {
          "output_type": "execute_result",
          "data": {
            "text/plain": [
              "94.24777960769379"
            ]
          },
          "metadata": {},
          "execution_count": 39
        }
      ]
    },
    {
      "cell_type": "markdown",
      "metadata": {
        "id": "lWzx4YxuDoen"
      },
      "source": [
        "$r$ está incluida en la derivada parcial por lo que su ajuste afecta a la escala de su impacto sobre $v$. Aunque es nuestro primer ejemplo en este cuaderno, es típico en cálculo que la derivada sólo se aplique a un $\\Delta r$ infinitesimalmente pequeño. Cuanto más pequeño sea $\\Delta r$, más se acercará a la verdadera $\\frac{\\partial v}{\\partial r}$. Por ejemplo, en $\\Delta r = 1 \\times 10^{-6}$:"
      ]
    },
    {
      "cell_type": "code",
      "metadata": {
        "id": "JN0waPUmDoen"
      },
      "source": [
        "delta = 1e-6"
      ],
      "execution_count": null,
      "outputs": []
    },
    {
      "cell_type": "code",
      "metadata": {
        "colab": {
          "base_uri": "https://localhost:8080/"
        },
        "id": "BCk5RPL8Doeo",
        "outputId": "2f980253-6e39-4320-876e-757bdec33697"
      },
      "source": [
        "(cylinder_vol(3 + delta, 5) - cylinder_vol(3, 5)) / delta # Dividiendo por delta, restaura la escala"
      ],
      "execution_count": null,
      "outputs": [
        {
          "output_type": "execute_result",
          "data": {
            "text/plain": [
              "94.24779531741478"
            ]
          },
          "metadata": {},
          "execution_count": 39
        }
      ]
    },
    {
      "cell_type": "markdown",
      "metadata": {
        "id": "v4U_lu-yDoeo"
      },
      "source": [
        "**Volver a las slides aquí.**"
      ]
    },
    {
      "cell_type": "markdown",
      "metadata": {
        "id": "3CKfShVZDoeo"
      },
      "source": [
        "### Gradientes del Coste con respecto a los Parámetros del Modelo"
      ]
    },
    {
      "cell_type": "markdown",
      "metadata": {
        "id": "XbAlp7N3Doeo"
      },
      "source": [
        "Ver los notebooks independientes:\n",
        "\n",
        "* [Gradiente de regresión de un punto](https://github.com/joanby/matematicas-ml/blob/master/notebooks/single-point-regression-gradient.ipynb)\n",
        "* [Gradiente de regresión por lotes](https://github.com/joanby/matematicas-ml/blob/master/notebooks/batch-regression-gradient.ipynb)"
      ]
    },
    {
      "cell_type": "markdown",
      "metadata": {
        "id": "8GkxmPtUDoeo"
      },
      "source": [
        "## Segmento 3: Integrales"
      ]
    },
    {
      "cell_type": "code",
      "metadata": {
        "id": "7RNXGSU_Doep"
      },
      "source": [
        "from scipy.integrate import quad # \"cuadratura\" = integración numérica (opuesta a la simbólica)"
      ],
      "execution_count": null,
      "outputs": []
    },
    {
      "cell_type": "markdown",
      "metadata": {
        "id": "0gcCUd4QDoep"
      },
      "source": [
        "De las slides: $$ \\int_1^2 \\frac{x}{2} dx = \\frac{3}{4} $$"
      ]
    },
    {
      "cell_type": "code",
      "metadata": {
        "id": "lQSGdUlIDoep"
      },
      "source": [
        "def g(x):\n",
        "    return x/2"
      ],
      "execution_count": null,
      "outputs": []
    },
    {
      "cell_type": "code",
      "metadata": {
        "colab": {
          "base_uri": "https://localhost:8080/"
        },
        "id": "Ifu7x0iRDoep",
        "outputId": "cc0b40e2-6a61-4662-e835-16ddbbc3c378"
      },
      "source": [
        "quad(g, 1, 2)"
      ],
      "execution_count": null,
      "outputs": [
        {
          "output_type": "execute_result",
          "data": {
            "text/plain": [
              "(0.75, 8.326672684688674e-15)"
            ]
          },
          "metadata": {},
          "execution_count": 42
        }
      ]
    },
    {
      "cell_type": "markdown",
      "metadata": {
        "id": "HfwAbtc5Doep"
      },
      "source": [
        "La segunda salida de `quad` es una estimación del error absoluto de la integral, que en este caso es esencialmente cero."
      ]
    },
    {
      "cell_type": "markdown",
      "metadata": {
        "id": "By-nY8jBDoeq"
      },
      "source": [
        "**Volver a las slides aquí.**"
      ]
    },
    {
      "cell_type": "code",
      "metadata": {
        "id": "BXY-74QaDoeq"
      },
      "source": [
        "def h(x):\n",
        "    return 2*x"
      ],
      "execution_count": null,
      "outputs": []
    },
    {
      "cell_type": "code",
      "metadata": {
        "colab": {
          "base_uri": "https://localhost:8080/"
        },
        "id": "A26vlFzCDoeq",
        "outputId": "a1554c68-3084-4358-f1f7-322219ec2eb9"
      },
      "source": [
        "quad(h, 3, 4)"
      ],
      "execution_count": null,
      "outputs": [
        {
          "output_type": "execute_result",
          "data": {
            "text/plain": [
              "(7.0, 7.771561172376096e-14)"
            ]
          },
          "metadata": {},
          "execution_count": 44
        }
      ]
    },
    {
      "cell_type": "markdown",
      "metadata": {
        "id": "Crw18QJv7oY3"
      },
      "source": [
        "**Volver a las slides aquí.**"
      ]
    },
    {
      "cell_type": "markdown",
      "metadata": {
        "id": "AAmdDoskDoeq"
      },
      "source": [
        "### Área bajo la curva ROC"
      ]
    },
    {
      "cell_type": "markdown",
      "metadata": {
        "id": "j_wFvlHEDoeq"
      },
      "source": [
        "Cuando no tenemos una función pero sí tenemos coordenadas $(x, y)$, podemos utilizar el método `auc()` de la librería scikit-learn, que utiliza una aproximación numérica (la [regla trapezoidal](https://en.wikipedia.org/wiki/Trapezoidal_rule)) para encontrar el área bajo la curva descrita por las coordenadas:"
      ]
    },
    {
      "cell_type": "code",
      "metadata": {
        "id": "_X0uiqKLDoeq"
      },
      "source": [
        "from sklearn.metrics import auc"
      ],
      "execution_count": null,
      "outputs": []
    },
    {
      "cell_type": "markdown",
      "metadata": {
        "id": "XilqUs--Doer"
      },
      "source": [
        "A partir de las diapositivas, las coordenadas $(x, y)$ de nuestra curva ROC de detección de perritos calientes son:\n",
        "\n",
        "* (0, 0)\n",
        "* (0, 0.5)\n",
        "* (0.5, 0.5)\n",
        "* (0.5, 1)\n",
        "* (1, 1)"
      ]
    },
    {
      "cell_type": "code",
      "metadata": {
        "id": "yu9wg0aoDoer"
      },
      "source": [
        "xs = [0, 0,   0.5, 0.5, 1]\n",
        "ys = [0, 0.5, 0.5, 1,   1]"
      ],
      "execution_count": null,
      "outputs": []
    },
    {
      "cell_type": "code",
      "metadata": {
        "colab": {
          "base_uri": "https://localhost:8080/"
        },
        "id": "BwnqDGueDoer",
        "outputId": "9a1ba72e-0bc6-41e9-9d2f-ee2583fffa3a"
      },
      "source": [
        "auc(xs, ys)"
      ],
      "execution_count": null,
      "outputs": [
        {
          "output_type": "execute_result",
          "data": {
            "text/plain": [
              "0.75"
            ]
          },
          "metadata": {},
          "execution_count": 47
        }
      ]
    }
  ]
}