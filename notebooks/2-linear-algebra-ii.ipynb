{
  "nbformat": 4,
  "nbformat_minor": 0,
  "metadata": {
    "colab": {
      "provenance": [],
      "include_colab_link": true
    },
    "kernelspec": {
      "display_name": "Python 3",
      "language": "python",
      "name": "python3"
    },
    "language_info": {
      "codemirror_mode": {
        "name": "ipython",
        "version": 3
      },
      "file_extension": ".py",
      "mimetype": "text/x-python",
      "name": "python",
      "nbconvert_exporter": "python",
      "pygments_lexer": "ipython3",
      "version": "3.7.6"
    }
  },
  "cells": [
    {
      "cell_type": "markdown",
      "metadata": {
        "id": "view-in-github",
        "colab_type": "text"
      },
      "source": [
        "<a href=\"https://colab.research.google.com/github/mvgmarian/matematicas-ml/blob/master/notebooks/2-linear-algebra-ii.ipynb\" target=\"_parent\"><img src=\"https://colab.research.google.com/assets/colab-badge.svg\" alt=\"Open In Colab\"/></a>"
      ]
    },
    {
      "cell_type": "markdown",
      "metadata": {
        "id": "aTOLgsbN69-P"
      },
      "source": [
        "# Álgebra Lineal II: Operaciones Matriciales"
      ]
    },
    {
      "cell_type": "markdown",
      "metadata": {
        "id": "yqUB9FTRAxd-"
      },
      "source": [
        "Este tema, *Álgebra lineal II: operaciones con matrices*, se basa en los fundamentos del álgebra lineal. Es esencial porque estas manipulaciones de nivel intermedio de tensores se encuentran en el corazón de la mayoría de los enfoques de aprendizaje automático y son especialmente predominantes en el aprendizaje profundo.\n",
        "\n",
        "A través de la exposición mesurada de la teoría emparejada con ejemplos interactivos, desarrollará una comprensión de cómo se utiliza el álgebra lineal para resolver valores desconocidos en espacios de alta dimensión, así como para reducir la dimensionalidad de los espacios complejos. El contenido cubierto en este tema es en sí mismo fundamental para varios otros temas de la serie *Fundamentos del Aprendizaje Automático*, especialmente *Probabilidad y Teoría de la Información* y *Optimización*."
      ]
    },
    {
      "cell_type": "markdown",
      "metadata": {
        "id": "d4tBvI88BheF"
      },
      "source": [
        "Over the course of studying this topic, you'll:\n",
        "\n",
        "* Develop a geometric intuition of what’s going on beneath the hood of machine learning algorithms, including those used for deep learning.\n",
        "* Be able to more intimately grasp the details of machine learning papers as well as all of the other subjects that underlie ML, including calculus, statistics, and optimization algorithms.\n",
        "* Reduce the dimensionalty of complex spaces down to their most informative elements with techniques such as eigendecomposition, singular value decomposition, and principal component analysis."
      ]
    },
    {
      "cell_type": "markdown",
      "metadata": {
        "id": "Z68nQ0ekCYhF"
      },
      "source": [
        "**Tenga en cuenta que este cuaderno Jupyter no está diseñado para funcionar por sí solo. Es el código que acompaña a una clase o a los vídeos de la serie [Machine Learning Foundations](https://github.com/jonkrohn/ML-foundations) de Jon Krohn, que ofrecen detalles sobre lo siguiente:**\n",
        "\n",
        "*Revisión de álgebra lineal introductoria\n",
        "\n",
        "* Aplicaciones modernas de álgebra lineal\n",
        "* Tensores, vectores y normas\n",
        "* Multiplicación de matrices\n",
        "* Inversión de matrices\n",
        "* Matrices de identidad, diagonales y ortogonales\n",
        "\n",
        "*Segmento 2: Eigendecomposición\n",
        "\n",
        "* Transformación Afín mediante Aplicación Matricial\n",
        "* Vectores y valores propios\n",
        "* Determinantes matriciales\n",
        "* Descomposición de matrices\n",
        "* Aplicaciones de la Eigendecomposición\n",
        "\n",
        "*Segmento 3: Operaciones Matriciales para el Aprendizaje Automático\n",
        "\n",
        "* Descomposición de Valores Singulares (SVD)\n",
        "* La pseudoinversa de Moore-Penrose\n",
        "* El operador Trace\n",
        "* Análisis de Componentes Principales (ACP): Un algoritmo sencillo de aprendizaje automático\n",
        "* Recursos para profundizar en el álgebra lineal"
      ]
    },
    {
      "cell_type": "markdown",
      "metadata": {
        "id": "ty8zFJj9j3Ui"
      },
      "source": [
        "## Segment0 1: Repaso de Introducción al álgebra lineal"
      ]
    },
    {
      "cell_type": "code",
      "metadata": {
        "id": "ixvqsCeFj3Uj"
      },
      "source": [
        "import numpy as np\n",
        "import torch"
      ],
      "execution_count": 2,
      "outputs": []
    },
    {
      "cell_type": "markdown",
      "metadata": {
        "id": "E0LgmflFj3Um"
      },
      "source": [
        "### Transposición de Vectores"
      ]
    },
    {
      "cell_type": "code",
      "metadata": {
        "colab": {
          "base_uri": "https://localhost:8080/"
        },
        "id": "6enkxzMmLWtm",
        "outputId": "0b0c60f3-3538-4683-b682-ac35f4c0ab9c"
      },
      "source": [
        "x = np.array([25, 2, 5])\n",
        "x"
      ],
      "execution_count": 3,
      "outputs": [
        {
          "output_type": "execute_result",
          "data": {
            "text/plain": [
              "array([25,  2,  5])"
            ]
          },
          "metadata": {},
          "execution_count": 3
        }
      ]
    },
    {
      "cell_type": "code",
      "metadata": {
        "colab": {
          "base_uri": "https://localhost:8080/"
        },
        "id": "apVGqjNCLWtp",
        "outputId": "f82ecc90-76ad-4d22-c5d1-3fb64b3f4c6a"
      },
      "source": [
        "x.shape"
      ],
      "execution_count": 4,
      "outputs": [
        {
          "output_type": "execute_result",
          "data": {
            "text/plain": [
              "(3,)"
            ]
          },
          "metadata": {},
          "execution_count": 4
        }
      ]
    },
    {
      "cell_type": "code",
      "metadata": {
        "colab": {
          "base_uri": "https://localhost:8080/"
        },
        "id": "hvLQEylJj3Un",
        "outputId": "f2086562-964c-4a70-cf2e-192ec68547b2"
      },
      "source": [
        "x = np.array([[25, 2, 5]])\n",
        "x"
      ],
      "execution_count": 5,
      "outputs": [
        {
          "output_type": "execute_result",
          "data": {
            "text/plain": [
              "array([[25,  2,  5]])"
            ]
          },
          "metadata": {},
          "execution_count": 5
        }
      ]
    },
    {
      "cell_type": "code",
      "metadata": {
        "colab": {
          "base_uri": "https://localhost:8080/"
        },
        "id": "WE7xFVxiLWtu",
        "outputId": "7b4ace93-aaca-4ad5-bf10-daea1722cfa3"
      },
      "source": [
        "x.shape"
      ],
      "execution_count": 6,
      "outputs": [
        {
          "output_type": "execute_result",
          "data": {
            "text/plain": [
              "(1, 3)"
            ]
          },
          "metadata": {},
          "execution_count": 6
        }
      ]
    },
    {
      "cell_type": "code",
      "metadata": {
        "colab": {
          "base_uri": "https://localhost:8080/"
        },
        "id": "D6XtfKZ8j3Ut",
        "outputId": "e8038d37-96fd-4ee3-a47e-a61f54f2ca35"
      },
      "source": [
        "x.T"
      ],
      "execution_count": 7,
      "outputs": [
        {
          "output_type": "execute_result",
          "data": {
            "text/plain": [
              "array([[25],\n",
              "       [ 2],\n",
              "       [ 5]])"
            ]
          },
          "metadata": {},
          "execution_count": 7
        }
      ]
    },
    {
      "cell_type": "code",
      "metadata": {
        "colab": {
          "base_uri": "https://localhost:8080/"
        },
        "id": "IN1_aSVQj3Uw",
        "outputId": "9dff92cc-26d1-4114-dbfc-5f7ceedbf5d0"
      },
      "source": [
        "x.T.shape"
      ],
      "execution_count": 8,
      "outputs": [
        {
          "output_type": "execute_result",
          "data": {
            "text/plain": [
              "(3, 1)"
            ]
          },
          "metadata": {},
          "execution_count": 8
        }
      ]
    },
    {
      "cell_type": "code",
      "metadata": {
        "colab": {
          "base_uri": "https://localhost:8080/"
        },
        "id": "K-_nrgesj3U4",
        "outputId": "97f067b0-eef4-4561-da4f-1c4d7cf8219b"
      },
      "source": [
        "x_p = torch.tensor([25, 2, 5])\n",
        "x_p"
      ],
      "execution_count": 9,
      "outputs": [
        {
          "output_type": "execute_result",
          "data": {
            "text/plain": [
              "tensor([25,  2,  5])"
            ]
          },
          "metadata": {},
          "execution_count": 9
        }
      ]
    },
    {
      "cell_type": "code",
      "metadata": {
        "colab": {
          "base_uri": "https://localhost:8080/"
        },
        "id": "X0YuG9Pmj3U6",
        "outputId": "fbbfb71c-f6a2-4abc-a12a-6083076da0ac"
      },
      "source": [
        "x_p.T"
      ],
      "execution_count": 10,
      "outputs": [
        {
          "output_type": "stream",
          "name": "stderr",
          "text": [
            "/tmp/ipython-input-10-2382155321.py:1: UserWarning: The use of `x.T` on tensors of dimension other than 2 to reverse their shape is deprecated and it will throw an error in a future release. Consider `x.mT` to transpose batches of matrices or `x.permute(*torch.arange(x.ndim - 1, -1, -1))` to reverse the dimensions of a tensor. (Triggered internally at /pytorch/aten/src/ATen/native/TensorShape.cpp:3725.)\n",
            "  x_p.T\n"
          ]
        },
        {
          "output_type": "execute_result",
          "data": {
            "text/plain": [
              "tensor([25,  2,  5])"
            ]
          },
          "metadata": {},
          "execution_count": 10
        }
      ]
    },
    {
      "cell_type": "code",
      "metadata": {
        "colab": {
          "base_uri": "https://localhost:8080/"
        },
        "id": "S_bRLc5wj3U8",
        "outputId": "092a32b0-435e-41a3-9a16-76023e299a26"
      },
      "source": [
        "x_p.view(3, 1) # \"view\" porque estamos cambiando la salida pero no la forma en que x se almacena en la memoria"
      ],
      "execution_count": 11,
      "outputs": [
        {
          "output_type": "execute_result",
          "data": {
            "text/plain": [
              "tensor([[25],\n",
              "        [ 2],\n",
              "        [ 5]])"
            ]
          },
          "metadata": {},
          "execution_count": 11
        }
      ]
    },
    {
      "cell_type": "markdown",
      "metadata": {
        "id": "llPpXVPHj3U_"
      },
      "source": [
        "**Volver a las slides aquí.**"
      ]
    },
    {
      "cell_type": "markdown",
      "metadata": {
        "id": "43tlq2huj3U_"
      },
      "source": [
        "## Norma $L^2$"
      ]
    },
    {
      "cell_type": "code",
      "metadata": {
        "colab": {
          "base_uri": "https://localhost:8080/"
        },
        "id": "wF1B2qL1j3VA",
        "outputId": "b2ad479b-3b9b-45bd-ece2-2be5ea1dffab"
      },
      "source": [
        "x"
      ],
      "execution_count": 12,
      "outputs": [
        {
          "output_type": "execute_result",
          "data": {
            "text/plain": [
              "array([[25,  2,  5]])"
            ]
          },
          "metadata": {},
          "execution_count": 12
        }
      ]
    },
    {
      "cell_type": "code",
      "metadata": {
        "colab": {
          "base_uri": "https://localhost:8080/"
        },
        "id": "SW2iYHE8j3VC",
        "outputId": "8452bf23-0d58-417b-e179-3fe19fc1a9d4"
      },
      "source": [
        "(25**2 + 2**2 + 5**2)**(1/2)"
      ],
      "execution_count": 13,
      "outputs": [
        {
          "output_type": "execute_result",
          "data": {
            "text/plain": [
              "25.573423705088842"
            ]
          },
          "metadata": {},
          "execution_count": 13
        }
      ]
    },
    {
      "cell_type": "code",
      "metadata": {
        "colab": {
          "base_uri": "https://localhost:8080/"
        },
        "id": "BGiMFU0pj3VE",
        "outputId": "9ecd1345-fb61-43e7-b606-d66648f829db"
      },
      "source": [
        "np.linalg.norm(x)"
      ],
      "execution_count": 14,
      "outputs": [
        {
          "output_type": "execute_result",
          "data": {
            "text/plain": [
              "np.float64(25.573423705088842)"
            ]
          },
          "metadata": {},
          "execution_count": 14
        }
      ]
    },
    {
      "cell_type": "markdown",
      "metadata": {
        "id": "3YBk8ta2j3VI"
      },
      "source": [
        "Olvido"
      ]
    },
    {
      "cell_type": "code",
      "metadata": {
        "id": "jjS4_w_Rj3VI"
      },
      "source": [
        "# la siguiente línea de código fallará porque torch.norm() requiere que la entrada sea float y no integer\n",
        "# torch.norm(p)"
      ],
      "execution_count": 15,
      "outputs": []
    },
    {
      "cell_type": "code",
      "metadata": {
        "colab": {
          "base_uri": "https://localhost:8080/"
        },
        "id": "fgadi8SFj3VK",
        "outputId": "dbfa3d27-e34b-4f63-8400-c827530a47ab"
      },
      "source": [
        "torch.norm(torch.tensor([25, 2, 5.]))"
      ],
      "execution_count": 16,
      "outputs": [
        {
          "output_type": "execute_result",
          "data": {
            "text/plain": [
              "tensor(25.5734)"
            ]
          },
          "metadata": {},
          "execution_count": 16
        }
      ]
    },
    {
      "cell_type": "markdown",
      "metadata": {
        "id": "qHti3Xslj3VM"
      },
      "source": [
        "**Volver a las slides aquí.**"
      ]
    },
    {
      "cell_type": "markdown",
      "metadata": {
        "id": "4xDLTPutj3VN"
      },
      "source": [
        "### Matrices"
      ]
    },
    {
      "cell_type": "code",
      "metadata": {
        "colab": {
          "base_uri": "https://localhost:8080/"
        },
        "id": "Fep93KC7j3VN",
        "outputId": "065f3583-0a82-42f1-bdca-cdad81a1e5fc"
      },
      "source": [
        "X = np.array([[25, 2], [5, 26], [3, 7]])\n",
        "X"
      ],
      "execution_count": 17,
      "outputs": [
        {
          "output_type": "execute_result",
          "data": {
            "text/plain": [
              "array([[25,  2],\n",
              "       [ 5, 26],\n",
              "       [ 3,  7]])"
            ]
          },
          "metadata": {},
          "execution_count": 17
        }
      ]
    },
    {
      "cell_type": "code",
      "metadata": {
        "colab": {
          "base_uri": "https://localhost:8080/"
        },
        "id": "S_yMqWdSj3VP",
        "outputId": "4aea7da6-2ff3-4c29-f5b6-ad464942eb51"
      },
      "source": [
        "X.shape"
      ],
      "execution_count": 18,
      "outputs": [
        {
          "output_type": "execute_result",
          "data": {
            "text/plain": [
              "(3, 2)"
            ]
          },
          "metadata": {},
          "execution_count": 18
        }
      ]
    },
    {
      "cell_type": "code",
      "metadata": {
        "colab": {
          "base_uri": "https://localhost:8080/"
        },
        "id": "RDkn2n92j3VX",
        "outputId": "fb27f0b5-70c8-4eaa-d162-4cf9f93f1dcf"
      },
      "source": [
        "X_p = torch.tensor([[25, 2], [5, 26], [3, 7]])\n",
        "X_p"
      ],
      "execution_count": 19,
      "outputs": [
        {
          "output_type": "execute_result",
          "data": {
            "text/plain": [
              "tensor([[25,  2],\n",
              "        [ 5, 26],\n",
              "        [ 3,  7]])"
            ]
          },
          "metadata": {},
          "execution_count": 19
        }
      ]
    },
    {
      "cell_type": "code",
      "metadata": {
        "colab": {
          "base_uri": "https://localhost:8080/"
        },
        "id": "SzpKBCqKj3VY",
        "outputId": "e9d2ba9f-942e-4b3b-c9be-4cb11c1663d3"
      },
      "source": [
        "X_p.shape"
      ],
      "execution_count": 20,
      "outputs": [
        {
          "output_type": "execute_result",
          "data": {
            "text/plain": [
              "torch.Size([3, 2])"
            ]
          },
          "metadata": {},
          "execution_count": 20
        }
      ]
    },
    {
      "cell_type": "markdown",
      "metadata": {
        "id": "pC1rWTlVj3Vg"
      },
      "source": [
        "### Transposición de Matrices"
      ]
    },
    {
      "cell_type": "code",
      "metadata": {
        "colab": {
          "base_uri": "https://localhost:8080/"
        },
        "id": "srh333wTj3Vg",
        "outputId": "0cc06f1e-aa38-4504-ddbe-6f40520570c7"
      },
      "source": [
        "X"
      ],
      "execution_count": 21,
      "outputs": [
        {
          "output_type": "execute_result",
          "data": {
            "text/plain": [
              "array([[25,  2],\n",
              "       [ 5, 26],\n",
              "       [ 3,  7]])"
            ]
          },
          "metadata": {},
          "execution_count": 21
        }
      ]
    },
    {
      "cell_type": "code",
      "metadata": {
        "colab": {
          "base_uri": "https://localhost:8080/"
        },
        "id": "e7siMBsRj3Vi",
        "outputId": "d1a51543-d3e6-4097-f668-5c203871f25c"
      },
      "source": [
        "X.T"
      ],
      "execution_count": 22,
      "outputs": [
        {
          "output_type": "execute_result",
          "data": {
            "text/plain": [
              "array([[25,  5,  3],\n",
              "       [ 2, 26,  7]])"
            ]
          },
          "metadata": {},
          "execution_count": 22
        }
      ]
    },
    {
      "cell_type": "code",
      "metadata": {
        "colab": {
          "base_uri": "https://localhost:8080/"
        },
        "id": "YF3iqTkUj3Vk",
        "outputId": "cee41f54-09da-48e6-dc9a-c582b4d2bf79"
      },
      "source": [
        "X_p.T"
      ],
      "execution_count": 23,
      "outputs": [
        {
          "output_type": "execute_result",
          "data": {
            "text/plain": [
              "tensor([[25,  5,  3],\n",
              "        [ 2, 26,  7]])"
            ]
          },
          "metadata": {},
          "execution_count": 23
        }
      ]
    },
    {
      "cell_type": "markdown",
      "metadata": {
        "id": "mXo5iD5Xj3Vm"
      },
      "source": [
        "**volver a las slides aquí.**"
      ]
    },
    {
      "cell_type": "markdown",
      "metadata": {
        "id": "loFYZ-pXj3Vm"
      },
      "source": [
        "### Multiplicación de Matrices"
      ]
    },
    {
      "cell_type": "markdown",
      "metadata": {
        "id": "BrHCDYrzj3Vm"
      },
      "source": [
        "Se aplican escalares a cada elemento de la matriz:"
      ]
    },
    {
      "cell_type": "code",
      "metadata": {
        "colab": {
          "base_uri": "https://localhost:8080/"
        },
        "id": "Yf3WIZ6Jj3Vn",
        "outputId": "32641417-da3e-4dff-ab2c-4d7f34d613ac"
      },
      "source": [
        "X*3"
      ],
      "execution_count": 24,
      "outputs": [
        {
          "output_type": "execute_result",
          "data": {
            "text/plain": [
              "array([[75,  6],\n",
              "       [15, 78],\n",
              "       [ 9, 21]])"
            ]
          },
          "metadata": {},
          "execution_count": 24
        }
      ]
    },
    {
      "cell_type": "code",
      "metadata": {
        "colab": {
          "base_uri": "https://localhost:8080/"
        },
        "id": "Pk-lY78Nj3Vp",
        "outputId": "e334a340-71d3-432c-ae62-5646f9f2a7e8"
      },
      "source": [
        "X*3+3"
      ],
      "execution_count": 25,
      "outputs": [
        {
          "output_type": "execute_result",
          "data": {
            "text/plain": [
              "array([[78,  9],\n",
              "       [18, 81],\n",
              "       [12, 24]])"
            ]
          },
          "metadata": {},
          "execution_count": 25
        }
      ]
    },
    {
      "cell_type": "code",
      "metadata": {
        "colab": {
          "base_uri": "https://localhost:8080/"
        },
        "id": "g_sJ0NI8j3Vq",
        "outputId": "54cdf411-4af2-480a-a3cb-b04d16b31fc9"
      },
      "source": [
        "X_p*3"
      ],
      "execution_count": 26,
      "outputs": [
        {
          "output_type": "execute_result",
          "data": {
            "text/plain": [
              "tensor([[75,  6],\n",
              "        [15, 78],\n",
              "        [ 9, 21]])"
            ]
          },
          "metadata": {},
          "execution_count": 26
        }
      ]
    },
    {
      "cell_type": "code",
      "metadata": {
        "colab": {
          "base_uri": "https://localhost:8080/"
        },
        "id": "jebPN-iPj3Vs",
        "outputId": "635ee2a9-81e6-4084-ac56-4e39cc206a5e"
      },
      "source": [
        "X_p*3+3"
      ],
      "execution_count": 27,
      "outputs": [
        {
          "output_type": "execute_result",
          "data": {
            "text/plain": [
              "tensor([[78,  9],\n",
              "        [18, 81],\n",
              "        [12, 24]])"
            ]
          },
          "metadata": {},
          "execution_count": 27
        }
      ]
    },
    {
      "cell_type": "markdown",
      "metadata": {
        "id": "-a4o6abYj3Vu"
      },
      "source": [
        "Usar el operador de multiplicación en dos tensores del mismo tamaño en PyTorch (o Numpy o TensorFlow) aplica operaciones de elemento a elemento. Este es el **producto Hadamard** (denotado por el operador $\\odot$, por ejemplo, $A \\odot B$) *no* **multiplicación de matrices**:"
      ]
    },
    {
      "cell_type": "code",
      "metadata": {
        "colab": {
          "base_uri": "https://localhost:8080/"
        },
        "id": "JtRT2V0cj3Vu",
        "outputId": "7bd1d9f9-35e8-495c-afec-1fb2552f3b67"
      },
      "source": [
        "A = np.array([[3, 4], [5, 6], [7, 8]])\n",
        "A"
      ],
      "execution_count": 28,
      "outputs": [
        {
          "output_type": "execute_result",
          "data": {
            "text/plain": [
              "array([[3, 4],\n",
              "       [5, 6],\n",
              "       [7, 8]])"
            ]
          },
          "metadata": {},
          "execution_count": 28
        }
      ]
    },
    {
      "cell_type": "code",
      "metadata": {
        "colab": {
          "base_uri": "https://localhost:8080/"
        },
        "id": "LLJYG8MIj3Vw",
        "outputId": "51e4cd30-1be2-485d-ef0f-3489ed2240c0"
      },
      "source": [
        "X"
      ],
      "execution_count": 29,
      "outputs": [
        {
          "output_type": "execute_result",
          "data": {
            "text/plain": [
              "array([[25,  2],\n",
              "       [ 5, 26],\n",
              "       [ 3,  7]])"
            ]
          },
          "metadata": {},
          "execution_count": 29
        }
      ]
    },
    {
      "cell_type": "code",
      "metadata": {
        "colab": {
          "base_uri": "https://localhost:8080/"
        },
        "id": "MtXoLfKbj3Vx",
        "outputId": "24b635aa-8bf2-413c-eab8-bcf4927d64e2"
      },
      "source": [
        "X * A"
      ],
      "execution_count": 30,
      "outputs": [
        {
          "output_type": "execute_result",
          "data": {
            "text/plain": [
              "array([[ 75,   8],\n",
              "       [ 25, 156],\n",
              "       [ 21,  56]])"
            ]
          },
          "metadata": {},
          "execution_count": 30
        }
      ]
    },
    {
      "cell_type": "code",
      "metadata": {
        "colab": {
          "base_uri": "https://localhost:8080/"
        },
        "id": "8T09ZO4ij3Vz",
        "outputId": "f9495023-ed38-46c5-808d-1282aabf864b"
      },
      "source": [
        "A_p = torch.tensor([[3, 4], [5, 6], [7, 8]])\n",
        "A_p"
      ],
      "execution_count": 31,
      "outputs": [
        {
          "output_type": "execute_result",
          "data": {
            "text/plain": [
              "tensor([[3, 4],\n",
              "        [5, 6],\n",
              "        [7, 8]])"
            ]
          },
          "metadata": {},
          "execution_count": 31
        }
      ]
    },
    {
      "cell_type": "code",
      "metadata": {
        "colab": {
          "base_uri": "https://localhost:8080/"
        },
        "id": "VBadBzQJj3V1",
        "outputId": "f71b219a-50ee-4d9e-8f18-e0e4aee36540"
      },
      "source": [
        "X_p * A_p"
      ],
      "execution_count": 32,
      "outputs": [
        {
          "output_type": "execute_result",
          "data": {
            "text/plain": [
              "tensor([[ 75,   8],\n",
              "        [ 25, 156],\n",
              "        [ 21,  56]])"
            ]
          },
          "metadata": {},
          "execution_count": 32
        }
      ]
    },
    {
      "cell_type": "markdown",
      "metadata": {
        "id": "s_4kMhF7j3V4"
      },
      "source": [
        "Producto de Matriz por Vector:"
      ]
    },
    {
      "cell_type": "code",
      "metadata": {
        "colab": {
          "base_uri": "https://localhost:8080/"
        },
        "id": "LAJEstCLj3V5",
        "outputId": "6c37b77b-ea7e-426f-a001-322a52ff1ce0"
      },
      "source": [
        "b = np.array([1, 2])\n",
        "b"
      ],
      "execution_count": 33,
      "outputs": [
        {
          "output_type": "execute_result",
          "data": {
            "text/plain": [
              "array([1, 2])"
            ]
          },
          "metadata": {},
          "execution_count": 33
        }
      ]
    },
    {
      "cell_type": "code",
      "metadata": {
        "colab": {
          "base_uri": "https://localhost:8080/"
        },
        "id": "ZOxK6XEXj3V8",
        "outputId": "cf239c1a-a238-4422-bee7-388ac34302f4"
      },
      "source": [
        "np.dot(A, b) # aunque técnicamente el producto punto es entre 2 vectores"
      ],
      "execution_count": 34,
      "outputs": [
        {
          "output_type": "execute_result",
          "data": {
            "text/plain": [
              "array([11, 17, 23])"
            ]
          },
          "metadata": {},
          "execution_count": 34
        }
      ]
    },
    {
      "cell_type": "code",
      "metadata": {
        "colab": {
          "base_uri": "https://localhost:8080/"
        },
        "id": "0Y3Ohltbj3V-",
        "outputId": "1f0f455c-782a-4cb3-f32a-2a3e6638762d"
      },
      "source": [
        "b_p = torch.tensor([1, 2])\n",
        "b_p"
      ],
      "execution_count": 35,
      "outputs": [
        {
          "output_type": "execute_result",
          "data": {
            "text/plain": [
              "tensor([1, 2])"
            ]
          },
          "metadata": {},
          "execution_count": 35
        }
      ]
    },
    {
      "cell_type": "code",
      "metadata": {
        "colab": {
          "base_uri": "https://localhost:8080/"
        },
        "id": "LioexYZ_j3WB",
        "outputId": "b793ac33-a88c-43b0-ef74-364c141086f4"
      },
      "source": [
        "torch.matmul(A_p, b_p)"
      ],
      "execution_count": 36,
      "outputs": [
        {
          "output_type": "execute_result",
          "data": {
            "text/plain": [
              "tensor([11, 17, 23])"
            ]
          },
          "metadata": {},
          "execution_count": 36
        }
      ]
    },
    {
      "cell_type": "markdown",
      "metadata": {
        "id": "6Wa5CB28j3WC"
      },
      "source": [
        "Multiplicación de matrices con dos matrices:"
      ]
    },
    {
      "cell_type": "code",
      "metadata": {
        "colab": {
          "base_uri": "https://localhost:8080/"
        },
        "id": "a8ZXM-T4j3WD",
        "outputId": "386f5d6f-081a-42f5-e5bf-7cf7308b595a"
      },
      "source": [
        "B = np.array([[1, 9], [2, 0]])\n",
        "B"
      ],
      "execution_count": 37,
      "outputs": [
        {
          "output_type": "execute_result",
          "data": {
            "text/plain": [
              "array([[1, 9],\n",
              "       [2, 0]])"
            ]
          },
          "metadata": {},
          "execution_count": 37
        }
      ]
    },
    {
      "cell_type": "code",
      "metadata": {
        "colab": {
          "base_uri": "https://localhost:8080/"
        },
        "id": "xE0DA5Xrj3WF",
        "outputId": "1e1d3b50-33a6-46fe-ccfb-c1af253d33c1"
      },
      "source": [
        "np.dot(A, B) # la primera columna es lo mismo que Xb"
      ],
      "execution_count": 38,
      "outputs": [
        {
          "output_type": "execute_result",
          "data": {
            "text/plain": [
              "array([[11, 27],\n",
              "       [17, 45],\n",
              "       [23, 63]])"
            ]
          },
          "metadata": {},
          "execution_count": 38
        }
      ]
    },
    {
      "cell_type": "code",
      "metadata": {
        "colab": {
          "base_uri": "https://localhost:8080/"
        },
        "id": "bBvYO9jFj3WH",
        "outputId": "72a56f13-8cf2-4a94-f1c5-46a75c8e58fc"
      },
      "source": [
        "B_p = torch.tensor([[1, 9], [2, 0]])\n",
        "B_p"
      ],
      "execution_count": 39,
      "outputs": [
        {
          "output_type": "execute_result",
          "data": {
            "text/plain": [
              "tensor([[1, 9],\n",
              "        [2, 0]])"
            ]
          },
          "metadata": {},
          "execution_count": 39
        }
      ]
    },
    {
      "cell_type": "code",
      "metadata": {
        "colab": {
          "base_uri": "https://localhost:8080/"
        },
        "id": "o2nEnn3Mj3WI",
        "outputId": "1ff4b1ac-be5e-4216-f424-68ea7f8dc982"
      },
      "source": [
        "torch.matmul(A_p, B_p)"
      ],
      "execution_count": 40,
      "outputs": [
        {
          "output_type": "execute_result",
          "data": {
            "text/plain": [
              "tensor([[11, 27],\n",
              "        [17, 45],\n",
              "        [23, 63]])"
            ]
          },
          "metadata": {},
          "execution_count": 40
        }
      ]
    },
    {
      "cell_type": "markdown",
      "metadata": {
        "id": "eCFqu8LWj3WJ"
      },
      "source": [
        "### Inversa de una matriz"
      ]
    },
    {
      "cell_type": "code",
      "metadata": {
        "colab": {
          "base_uri": "https://localhost:8080/"
        },
        "id": "Hhr16-XVj3WK",
        "outputId": "75b3b344-e4fe-4311-bb61-a53d2753419f"
      },
      "source": [
        "X = np.array([[4, 2], [-5, -3]])\n",
        "X"
      ],
      "execution_count": 41,
      "outputs": [
        {
          "output_type": "execute_result",
          "data": {
            "text/plain": [
              "array([[ 4,  2],\n",
              "       [-5, -3]])"
            ]
          },
          "metadata": {},
          "execution_count": 41
        }
      ]
    },
    {
      "cell_type": "code",
      "metadata": {
        "colab": {
          "base_uri": "https://localhost:8080/"
        },
        "id": "FIGmFK9oj3WM",
        "outputId": "44b87162-5272-49a1-fc24-ed1007a41745"
      },
      "source": [
        "Xinv = np.linalg.inv(X)\n",
        "Xinv"
      ],
      "execution_count": 42,
      "outputs": [
        {
          "output_type": "execute_result",
          "data": {
            "text/plain": [
              "array([[ 1.5,  1. ],\n",
              "       [-2.5, -2. ]])"
            ]
          },
          "metadata": {},
          "execution_count": 42
        }
      ]
    },
    {
      "cell_type": "code",
      "metadata": {
        "colab": {
          "base_uri": "https://localhost:8080/"
        },
        "id": "WWEFauNsj3WO",
        "outputId": "e47bd7fe-d6b1-49d6-bcf9-57a99c4519dc"
      },
      "source": [
        "y = np.array([4, -7])\n",
        "y"
      ],
      "execution_count": 43,
      "outputs": [
        {
          "output_type": "execute_result",
          "data": {
            "text/plain": [
              "array([ 4, -7])"
            ]
          },
          "metadata": {},
          "execution_count": 43
        }
      ]
    },
    {
      "cell_type": "code",
      "metadata": {
        "colab": {
          "base_uri": "https://localhost:8080/"
        },
        "id": "egKyXcZhj3WR",
        "outputId": "1d95af06-ebef-48d0-b775-cbc3927dfb72"
      },
      "source": [
        "w = np.dot(Xinv, y)\n",
        "w"
      ],
      "execution_count": 44,
      "outputs": [
        {
          "output_type": "execute_result",
          "data": {
            "text/plain": [
              "array([-1.,  4.])"
            ]
          },
          "metadata": {},
          "execution_count": 44
        }
      ]
    },
    {
      "cell_type": "markdown",
      "metadata": {
        "id": "4-QHJQR5LWvF"
      },
      "source": [
        "Demostrar que $y = Xw$:"
      ]
    },
    {
      "cell_type": "code",
      "metadata": {
        "colab": {
          "base_uri": "https://localhost:8080/"
        },
        "id": "W-6jEzyRLWvG",
        "outputId": "e6a75ad3-712e-446f-e254-20e8c2ac13a2"
      },
      "source": [
        "np.dot(X, w)"
      ],
      "execution_count": 45,
      "outputs": [
        {
          "output_type": "execute_result",
          "data": {
            "text/plain": [
              "array([ 4., -7.])"
            ]
          },
          "metadata": {},
          "execution_count": 45
        }
      ]
    },
    {
      "cell_type": "code",
      "metadata": {
        "colab": {
          "base_uri": "https://localhost:8080/"
        },
        "id": "jro-lItLj3WT",
        "outputId": "52552b94-f4c5-44e2-c4a7-072aaf05e773"
      },
      "source": [
        "X_p = torch.tensor([[4, 2], [-5, -3.]]) # notar que torch.inverse() requiere floats\n",
        "X_p"
      ],
      "execution_count": 46,
      "outputs": [
        {
          "output_type": "execute_result",
          "data": {
            "text/plain": [
              "tensor([[ 4.,  2.],\n",
              "        [-5., -3.]])"
            ]
          },
          "metadata": {},
          "execution_count": 46
        }
      ]
    },
    {
      "cell_type": "code",
      "metadata": {
        "colab": {
          "base_uri": "https://localhost:8080/"
        },
        "id": "o4HfI57Nj3WW",
        "outputId": "136c9a95-ca1e-4fa1-b545-7aa130041cb8"
      },
      "source": [
        "Xinv_p = torch.inverse(X_p)\n",
        "Xinv_p"
      ],
      "execution_count": 47,
      "outputs": [
        {
          "output_type": "execute_result",
          "data": {
            "text/plain": [
              "tensor([[ 1.5000,  1.0000],\n",
              "        [-2.5000, -2.0000]])"
            ]
          },
          "metadata": {},
          "execution_count": 47
        }
      ]
    },
    {
      "cell_type": "code",
      "metadata": {
        "colab": {
          "base_uri": "https://localhost:8080/"
        },
        "id": "dy88LRcyj3WY",
        "outputId": "58af6777-e550-4cc6-a687-58eb44acdf4a"
      },
      "source": [
        "y_p = torch.tensor([4, -7.])\n",
        "y_p"
      ],
      "execution_count": 48,
      "outputs": [
        {
          "output_type": "execute_result",
          "data": {
            "text/plain": [
              "tensor([ 4., -7.])"
            ]
          },
          "metadata": {},
          "execution_count": 48
        }
      ]
    },
    {
      "cell_type": "code",
      "metadata": {
        "colab": {
          "base_uri": "https://localhost:8080/"
        },
        "id": "1wB3r-ggj3Wa",
        "outputId": "28ec8626-3a69-4ee8-a442-70375271e988"
      },
      "source": [
        "w_p = torch.matmul(Xinv_p, y_p)\n",
        "w_p"
      ],
      "execution_count": 49,
      "outputs": [
        {
          "output_type": "execute_result",
          "data": {
            "text/plain": [
              "tensor([-1.,  4.])"
            ]
          },
          "metadata": {},
          "execution_count": 49
        }
      ]
    },
    {
      "cell_type": "code",
      "metadata": {
        "colab": {
          "base_uri": "https://localhost:8080/"
        },
        "id": "tksRdg5JLWvQ",
        "outputId": "eced7d4b-38f9-40e8-c3ed-a838a65f39ba"
      },
      "source": [
        "torch.matmul(X_p, w_p)"
      ],
      "execution_count": 50,
      "outputs": [
        {
          "output_type": "execute_result",
          "data": {
            "text/plain": [
              "tensor([ 4., -7.])"
            ]
          },
          "metadata": {},
          "execution_count": 50
        }
      ]
    },
    {
      "cell_type": "markdown",
      "metadata": {
        "id": "oWXikiwFj3Wb"
      },
      "source": [
        "**Volver a las slides aquí.**"
      ]
    },
    {
      "cell_type": "markdown",
      "metadata": {
        "id": "R4XpcVX2j3Wc"
      },
      "source": [
        "## Segmento 2: Descomposición en Valores y Vectores Propios"
      ]
    },
    {
      "cell_type": "markdown",
      "metadata": {
        "id": "2vgT25z9fN_E"
      },
      "source": [
        "### Transformación Afín mediante Aplicación Matricial"
      ]
    },
    {
      "cell_type": "markdown",
      "metadata": {
        "id": "gLjGas2ij3Ws"
      },
      "source": [
        "Supongamos que tenemos un vector $v$:"
      ]
    },
    {
      "cell_type": "code",
      "metadata": {
        "colab": {
          "base_uri": "https://localhost:8080/"
        },
        "id": "zZvzKGRkj3Ws",
        "outputId": "4f990894-9b05-4b31-c10d-deba1c5b7de2"
      },
      "source": [
        "v = np.array([3, 1])\n",
        "v"
      ],
      "execution_count": 51,
      "outputs": [
        {
          "output_type": "execute_result",
          "data": {
            "text/plain": [
              "array([3, 1])"
            ]
          },
          "metadata": {},
          "execution_count": 51
        }
      ]
    },
    {
      "cell_type": "markdown",
      "metadata": {
        "id": "4UlRvHvZj3Wt"
      },
      "source": [
        "Vamos a representar $v$ usando mi función `plot_vectors()` (que está basada en la función `plotVectors()` de Hadrien Jean de [este cuaderno](https://github.com/hadrienj/deepLearningBook-Notes/blob/master/2.7%20Eigendecomposition/2.7%20Eigendecomposition.ipynb), bajo [licencia MIT](https://github.com/hadrienj/deepLearningBook-Notes/blob/master/LICENSE))."
      ]
    },
    {
      "cell_type": "code",
      "metadata": {
        "id": "Hl54713Rj3Wt"
      },
      "source": [
        "import matplotlib.pyplot as plt"
      ],
      "execution_count": 52,
      "outputs": []
    },
    {
      "cell_type": "code",
      "metadata": {
        "id": "fmyWW7Xvj3Wu"
      },
      "source": [
        "def plot_vectors(vectors, colors):\n",
        "    \"\"\"\n",
        "    Plot one or more vectors in a 2D plane, specifying a color for each.\n",
        "\n",
        "    Arguments\n",
        "    ---------\n",
        "    vectors: list of lists or of arrays\n",
        "        Coordinates of the vectors to plot. For example, [[1, 3], [2, 2]]\n",
        "        contains two vectors to plot, [1, 3] and [2, 2].\n",
        "    colors: list\n",
        "        Colors of the vectors. For instance: ['red', 'blue'] will display the\n",
        "        first vector in red and the second in blue.\n",
        "\n",
        "    Example\n",
        "    -------\n",
        "    plot_vectors([[1, 3], [2, 2]], ['red', 'blue'])\n",
        "    plt.xlim(-1, 4)\n",
        "    plt.ylim(-1, 4)\n",
        "    \"\"\"\n",
        "    plt.figure()\n",
        "    plt.axvline(x=0, color='lightgray')\n",
        "    plt.axhline(y=0, color='lightgray')\n",
        "\n",
        "    for i in range(len(vectors)):\n",
        "        x = np.concatenate([[0,0],vectors[i]])\n",
        "        plt.quiver([x[0]], [x[1]], [x[2]], [x[3]],\n",
        "                   angles='xy', scale_units='xy', scale=1, color=colors[i],)"
      ],
      "execution_count": 53,
      "outputs": []
    },
    {
      "cell_type": "code",
      "metadata": {
        "colab": {
          "base_uri": "https://localhost:8080/",
          "height": 435
        },
        "id": "8uP1xgnLj3Wx",
        "outputId": "b24922cd-0ca4-4a1f-b492-5a0047adaabe"
      },
      "source": [
        "plot_vectors([v], ['lightblue'])\n",
        "plt.xlim(-1, 5)\n",
        "_ = plt.ylim(-1, 5)"
      ],
      "execution_count": 54,
      "outputs": [
        {
          "output_type": "display_data",
          "data": {
            "text/plain": [
              "<Figure size 640x480 with 1 Axes>"
            ],
            "image/png": "[encoded data removed]"
          },
          "metadata": {}
        }
      ]
    },
    {
      "cell_type": "markdown",
      "metadata": {
        "id": "ydGgh5lRj3Wy"
      },
      "source": [
        "Aplicar una matriz a un vector (es decir, realizar una multiplicación matriz-vector) puede transformar linealmente el vector, por ejemplo, rotarlo o reescalarlo."
      ]
    },
    {
      "cell_type": "markdown",
      "metadata": {
        "id": "ReW9fF-sj3Wy"
      },
      "source": [
        "La matriz identidad, introducida anteriormente, es la excepción que confirma la regla: La aplicación de una matriz identidad no transforma el vector:"
      ]
    },
    {
      "cell_type": "code",
      "metadata": {
        "colab": {
          "base_uri": "https://localhost:8080/"
        },
        "id": "0riv3SS8j3Wz",
        "outputId": "572e0e97-4f19-473c-dc55-d177abf5e5cc"
      },
      "source": [
        "I = np.array([[1, 0], [0, 1]])\n",
        "I"
      ],
      "execution_count": 55,
      "outputs": [
        {
          "output_type": "execute_result",
          "data": {
            "text/plain": [
              "array([[1, 0],\n",
              "       [0, 1]])"
            ]
          },
          "metadata": {},
          "execution_count": 55
        }
      ]
    },
    {
      "cell_type": "code",
      "metadata": {
        "colab": {
          "base_uri": "https://localhost:8080/"
        },
        "id": "nc7nn6VDj3W0",
        "outputId": "b3ebdd29-86f8-465c-ad60-5e977cf26e1c"
      },
      "source": [
        "Iv = np.dot(I, v)\n",
        "Iv"
      ],
      "execution_count": 56,
      "outputs": [
        {
          "output_type": "execute_result",
          "data": {
            "text/plain": [
              "array([3, 1])"
            ]
          },
          "metadata": {},
          "execution_count": 56
        }
      ]
    },
    {
      "cell_type": "code",
      "metadata": {
        "colab": {
          "base_uri": "https://localhost:8080/"
        },
        "id": "AXQBaq2fj3W1",
        "outputId": "3f5a03a5-f4d2-4dcc-8b03-65f2f709230f"
      },
      "source": [
        "v == Iv"
      ],
      "execution_count": 57,
      "outputs": [
        {
          "output_type": "execute_result",
          "data": {
            "text/plain": [
              "array([ True,  True])"
            ]
          },
          "metadata": {},
          "execution_count": 57
        }
      ]
    },
    {
      "cell_type": "code",
      "metadata": {
        "colab": {
          "base_uri": "https://localhost:8080/",
          "height": 435
        },
        "id": "SP81dIksj3W3",
        "outputId": "4277caab-2298-4e87-9be5-7b8593eb9d1f"
      },
      "source": [
        "plot_vectors([Iv], ['blue'])\n",
        "plt.xlim(-1, 5)\n",
        "_ = plt.ylim(-1, 5)"
      ],
      "execution_count": 58,
      "outputs": [
        {
          "output_type": "display_data",
          "data": {
            "text/plain": [
              "<Figure size 640x480 with 1 Axes>"
            ],
            "image/png": "[encoded data removed]"
          },
          "metadata": {}
        }
      ]
    },
    {
      "cell_type": "markdown",
      "metadata": {
        "id": "knI50bEJ8UsQ"
      },
      "source": [
        "Por el contrario, consideremos esta matriz (llamémosla $E$) que voltea los vectores sobre el eje $x$:"
      ]
    },
    {
      "cell_type": "code",
      "metadata": {
        "id": "PTGnNFx48UsR",
        "colab": {
          "base_uri": "https://localhost:8080/"
        },
        "outputId": "d89bb9af-1d85-4a47-cf0b-b9b539348a72"
      },
      "source": [
        "E = np.array([[1, 0], [0, -1]])\n",
        "E"
      ],
      "execution_count": 59,
      "outputs": [
        {
          "output_type": "execute_result",
          "data": {
            "text/plain": [
              "array([[ 1,  0],\n",
              "       [ 0, -1]])"
            ]
          },
          "metadata": {},
          "execution_count": 59
        }
      ]
    },
    {
      "cell_type": "code",
      "metadata": {
        "id": "d6CZbgfT8UsS",
        "colab": {
          "base_uri": "https://localhost:8080/"
        },
        "outputId": "c6a29b79-9db0-4c16-d62e-325445785a94"
      },
      "source": [
        "Ev = np.dot(E, v)\n",
        "Ev"
      ],
      "execution_count": 60,
      "outputs": [
        {
          "output_type": "execute_result",
          "data": {
            "text/plain": [
              "array([ 3, -1])"
            ]
          },
          "metadata": {},
          "execution_count": 60
        }
      ]
    },
    {
      "cell_type": "code",
      "metadata": {
        "id": "0hDvoi258UsS",
        "colab": {
          "base_uri": "https://localhost:8080/",
          "height": 435
        },
        "outputId": "e7b0bd4b-6b16-4fad-d644-2fab79845089"
      },
      "source": [
        "plot_vectors([v, Ev], ['lightblue', 'blue'])\n",
        "plt.xlim(-1, 5)\n",
        "_ = plt.ylim(-3, 3)"
      ],
      "execution_count": 61,
      "outputs": [
        {
          "output_type": "display_data",
          "data": {
            "text/plain": [
              "<Figure size 640x480 with 1 Axes>"
            ],
            "image/png": "[encoded data removed]"
          },
          "metadata": {}
        }
      ]
    },
    {
      "cell_type": "markdown",
      "metadata": {
        "id": "cfj26eui8UsS"
      },
      "source": [
        "O, esta matriz, $F$, que voltea vectores sobre el eje $y$:"
      ]
    },
    {
      "cell_type": "code",
      "metadata": {
        "id": "E5wijvsi8UsT",
        "colab": {
          "base_uri": "https://localhost:8080/"
        },
        "outputId": "5ab336bf-5b37-4fb4-f83b-1e9cc9a5fba1"
      },
      "source": [
        "F = np.array([[-1, 0], [0, 1]])\n",
        "F"
      ],
      "execution_count": 62,
      "outputs": [
        {
          "output_type": "execute_result",
          "data": {
            "text/plain": [
              "array([[-1,  0],\n",
              "       [ 0,  1]])"
            ]
          },
          "metadata": {},
          "execution_count": 62
        }
      ]
    },
    {
      "cell_type": "code",
      "metadata": {
        "id": "P7tQhi2Z8UsT",
        "colab": {
          "base_uri": "https://localhost:8080/"
        },
        "outputId": "a0ed9daf-f12f-45bf-f161-fa7f494d4ee0"
      },
      "source": [
        "Fv = np.dot(F, v)\n",
        "Fv"
      ],
      "execution_count": 63,
      "outputs": [
        {
          "output_type": "execute_result",
          "data": {
            "text/plain": [
              "array([-3,  1])"
            ]
          },
          "metadata": {},
          "execution_count": 63
        }
      ]
    },
    {
      "cell_type": "code",
      "metadata": {
        "id": "xrlgyYFH8UsT",
        "colab": {
          "base_uri": "https://localhost:8080/",
          "height": 435
        },
        "outputId": "5c152140-50b3-49db-d46d-664ab4e7becd"
      },
      "source": [
        "plot_vectors([v, Fv], ['lightblue', 'blue'])\n",
        "plt.xlim(-4, 4)\n",
        "_ = plt.ylim(-1, 5)"
      ],
      "execution_count": 64,
      "outputs": [
        {
          "output_type": "display_data",
          "data": {
            "text/plain": [
              "<Figure size 640x480 with 1 Axes>"
            ],
            "image/png": "[encoded data removed]"
          },
          "metadata": {}
        }
      ]
    },
    {
      "cell_type": "markdown",
      "metadata": {
        "id": "bDVVb2Ty8UsT"
      },
      "source": [
        "Aplicar una matriz de volteo es un ejemplo de **transformación afín**: un cambio en la geometría que puede ajustar distancias o ángulos entre vectores, pero preserva el paralelismo entre ellos.\n",
        "\n",
        "Además de voltear una matriz sobre un eje (también conocido como *reflexión*), otras transformaciones afines comunes incluyen:\n",
        "\n",
        "* *Escalado* (cambiando la longitud de los vectores)\n",
        "* *Cizallamiento* (cambiando la longitud de los vectores como veremos con la Mona Lisa)\n",
        "* Rotación\n",
        "\n",
        "(Ver [aquí](https://stackabuse.com/affine-image-transformations-in-python-with-numpy-pillow-and-opencv/) para una destacada entrada de blog sobre transformaciones afines en Python, incluyendo cómo aplicarlas tanto a imágenes como a vectores)."
      ]
    },
    {
      "cell_type": "markdown",
      "metadata": {
        "id": "JcdkCchSj3W4"
      },
      "source": [
        "Una sola matriz puede aplicar múltiples transformaciones afines simultáneamente (por ejemplo, voltear sobre un eje y rotar 45 grados). Como ejemplo, veamos qué ocurre cuando aplicamos esta matriz $A$ al vector $v$:"
      ]
    },
    {
      "cell_type": "code",
      "metadata": {
        "colab": {
          "base_uri": "https://localhost:8080/"
        },
        "id": "R-EsIE7cj3W4",
        "outputId": "5867d7aa-3ee7-45a6-97f0-4b64a723051d"
      },
      "source": [
        "A = np.array([[-1, 4], [2, -2]])\n",
        "A"
      ],
      "execution_count": 65,
      "outputs": [
        {
          "output_type": "execute_result",
          "data": {
            "text/plain": [
              "array([[-1,  4],\n",
              "       [ 2, -2]])"
            ]
          },
          "metadata": {},
          "execution_count": 65
        }
      ]
    },
    {
      "cell_type": "code",
      "metadata": {
        "colab": {
          "base_uri": "https://localhost:8080/"
        },
        "id": "DZ0rxeKTj3W5",
        "outputId": "cd646941-0b69-4d52-8538-4d23a2c1577a"
      },
      "source": [
        "Av = np.dot(A, v)\n",
        "Av"
      ],
      "execution_count": 66,
      "outputs": [
        {
          "output_type": "execute_result",
          "data": {
            "text/plain": [
              "array([1, 4])"
            ]
          },
          "metadata": {},
          "execution_count": 66
        }
      ]
    },
    {
      "cell_type": "code",
      "metadata": {
        "colab": {
          "base_uri": "https://localhost:8080/",
          "height": 435
        },
        "id": "RCAfNJ8hj3W7",
        "outputId": "6655872f-ae8b-4be7-bc2f-44abf08c48f7"
      },
      "source": [
        "plot_vectors([v, Av], ['lightblue', 'blue'])\n",
        "plt.xlim(-1, 5)\n",
        "_ = plt.ylim(-1, 5)"
      ],
      "execution_count": 67,
      "outputs": [
        {
          "output_type": "display_data",
          "data": {
            "text/plain": [
              "<Figure size 640x480 with 1 Axes>"
            ],
            "image/png": "[encoded data removed]"
          },
          "metadata": {}
        }
      ]
    },
    {
      "cell_type": "code",
      "metadata": {
        "colab": {
          "base_uri": "https://localhost:8080/",
          "height": 435
        },
        "id": "7cMA5yMij3W8",
        "outputId": "12222ee3-f705-46dc-bb18-08087919ead5"
      },
      "source": [
        "# Otro ejemplo de aplicar la matriz A:\n",
        "v2 = np.array([2, 1])\n",
        "plot_vectors([v2, np.dot(A, v2)], ['lightgreen', 'green'])\n",
        "plt.xlim(-1, 5)\n",
        "_ = plt.ylim(-1, 5)"
      ],
      "execution_count": 68,
      "outputs": [
        {
          "output_type": "display_data",
          "data": {
            "text/plain": [
              "<Figure size 640x480 with 1 Axes>"
            ],
            "image/png": "[encoded data removed]"
          },
          "metadata": {}
        }
      ]
    },
    {
      "cell_type": "markdown",
      "metadata": {
        "id": "gRqpCA6qj3W-"
      },
      "source": [
        "Podemos concatenar varios vectores juntos en una matriz (digamos, $V$), donde cada columna es un vector independiente. Entonces, cualquier transformación lineal que apliquemos a $V$ se aplicará independientemente a cada columna (vector):"
      ]
    },
    {
      "cell_type": "code",
      "metadata": {
        "colab": {
          "base_uri": "https://localhost:8080/"
        },
        "id": "dsRo3xPFj3W-",
        "outputId": "b640a45b-73ae-4e8d-cbdc-87b0c949c077"
      },
      "source": [
        "v"
      ],
      "execution_count": 69,
      "outputs": [
        {
          "output_type": "execute_result",
          "data": {
            "text/plain": [
              "array([3, 1])"
            ]
          },
          "metadata": {},
          "execution_count": 69
        }
      ]
    },
    {
      "cell_type": "code",
      "metadata": {
        "colab": {
          "base_uri": "https://localhost:8080/"
        },
        "id": "nQDdsKXNj3XA",
        "outputId": "a6b3be65-90d5-4045-8da6-edf0a09a1754"
      },
      "source": [
        "# recordemos que necesitamos convertir array a 2D para transponer en columna, p.e:\n",
        "np.matrix(v).T"
      ],
      "execution_count": 70,
      "outputs": [
        {
          "output_type": "execute_result",
          "data": {
            "text/plain": [
              "matrix([[3],\n",
              "        [1]])"
            ]
          },
          "metadata": {},
          "execution_count": 70
        }
      ]
    },
    {
      "cell_type": "code",
      "metadata": {
        "id": "Zb9cSgjnj3XB"
      },
      "source": [
        "v3 = np.array([-3, -1]) # imagen especular de v en ambos ejes\n",
        "v4 = np.array([-1, 1])"
      ],
      "execution_count": 71,
      "outputs": []
    },
    {
      "cell_type": "code",
      "metadata": {
        "colab": {
          "base_uri": "https://localhost:8080/"
        },
        "id": "EsdcEFXYj3XC",
        "outputId": "01f86a50-e638-48ef-e5b8-9197364721bc"
      },
      "source": [
        "V = np.concatenate((np.matrix(v).T,\n",
        "                    np.matrix(v2).T,\n",
        "                    np.matrix(v3).T,\n",
        "                    np.matrix(v4).T),\n",
        "                   axis=1)\n",
        "V"
      ],
      "execution_count": 72,
      "outputs": [
        {
          "output_type": "execute_result",
          "data": {
            "text/plain": [
              "matrix([[ 3,  2, -3, -1],\n",
              "        [ 1,  1, -1,  1]])"
            ]
          },
          "metadata": {},
          "execution_count": 72
        }
      ]
    },
    {
      "cell_type": "code",
      "metadata": {
        "colab": {
          "base_uri": "https://localhost:8080/"
        },
        "id": "t3CSo0Hrj3XD",
        "outputId": "19d5cb97-08e7-4af5-c054-660b63918a41"
      },
      "source": [
        "IV = np.dot(I, V)\n",
        "IV"
      ],
      "execution_count": 73,
      "outputs": [
        {
          "output_type": "execute_result",
          "data": {
            "text/plain": [
              "matrix([[ 3,  2, -3, -1],\n",
              "        [ 1,  1, -1,  1]])"
            ]
          },
          "metadata": {},
          "execution_count": 73
        }
      ]
    },
    {
      "cell_type": "code",
      "metadata": {
        "colab": {
          "base_uri": "https://localhost:8080/"
        },
        "id": "a6M61JEWj3XE",
        "outputId": "82cb8800-0ea2-4476-aa35-e9ac5cd52167"
      },
      "source": [
        "AV = np.dot(A, V)\n",
        "AV"
      ],
      "execution_count": 74,
      "outputs": [
        {
          "output_type": "execute_result",
          "data": {
            "text/plain": [
              "matrix([[ 1,  2, -1,  5],\n",
              "        [ 4,  2, -4, -4]])"
            ]
          },
          "metadata": {},
          "execution_count": 74
        }
      ]
    },
    {
      "cell_type": "code",
      "metadata": {
        "id": "wGmvjr85j3XG"
      },
      "source": [
        "# función para convertir una columna de matriz en un vector 1D:\n",
        "def vectorfy(mtrx, clmn):\n",
        "    return np.array(mtrx[:,clmn]).reshape(-1)\n"
      ],
      "execution_count": 75,
      "outputs": []
    },
    {
      "cell_type": "code",
      "metadata": {
        "colab": {
          "base_uri": "https://localhost:8080/"
        },
        "id": "L2eQ4w83j3XH",
        "outputId": "125cd990-8dc0-47c1-eb49-96472d04f5ee"
      },
      "source": [
        "vectorfy(V, 0)"
      ],
      "execution_count": 76,
      "outputs": [
        {
          "output_type": "execute_result",
          "data": {
            "text/plain": [
              "array([3, 1])"
            ]
          },
          "metadata": {},
          "execution_count": 76
        }
      ]
    },
    {
      "cell_type": "code",
      "metadata": {
        "colab": {
          "base_uri": "https://localhost:8080/"
        },
        "id": "_o4HOgEwj3XI",
        "outputId": "a6a47555-8bd7-40e5-f7c7-d7e3c9baa49a"
      },
      "source": [
        "vectorfy(V, 0) == v"
      ],
      "execution_count": 77,
      "outputs": [
        {
          "output_type": "execute_result",
          "data": {
            "text/plain": [
              "array([ True,  True])"
            ]
          },
          "metadata": {},
          "execution_count": 77
        }
      ]
    },
    {
      "cell_type": "code",
      "metadata": {
        "colab": {
          "base_uri": "https://localhost:8080/",
          "height": 430
        },
        "id": "btsivNB_j3XK",
        "outputId": "1f200392-2378-492a-91b9-058dccae6c55"
      },
      "source": [
        "plot_vectors([vectorfy(V, 0), vectorfy(V, 1), vectorfy(V, 2), vectorfy(V, 3),\n",
        "             vectorfy(AV, 0), vectorfy(AV, 1), vectorfy(AV, 2), vectorfy(AV, 3)],\n",
        "            ['lightblue', 'lightgreen', 'lightgray', 'orange',\n",
        "             'blue', 'green', 'gray', 'red'])\n",
        "plt.xlim(-4, 6)\n",
        "_ = plt.ylim(-5, 5)"
      ],
      "execution_count": 78,
      "outputs": [
        {
          "output_type": "display_data",
          "data": {
            "text/plain": [
              "<Figure size 640x480 with 1 Axes>"
            ],
            "image/png": "[encoded data removed]"
          },
          "metadata": {}
        }
      ]
    },
    {
      "cell_type": "markdown",
      "metadata": {
        "id": "EFTcb9xkf3vT"
      },
      "source": [
        "Ahora que podemos apreciar la transformación lineal de vectores por matrices, pasemos a trabajar con vectores y valores propios...\n",
        "\n",
        "**Volver a las slides aquí.**"
      ]
    },
    {
      "cell_type": "markdown",
      "metadata": {
        "id": "et4bgYFDj3Wr"
      },
      "source": [
        "### Valores y Vectores Propios"
      ]
    },
    {
      "cell_type": "markdown",
      "metadata": {
        "id": "4n31lIDpj3XL"
      },
      "source": [
        "Un **vector propio** (*eigen* en alemán significa «típico»; podríamos traducir *vector propio* por «vector característico») es un vector especial $v$ tal que cuando se transforma por alguna matriz (digamos $A$), el producto $Av$ tiene exactamente la misma dirección que $v$.\n",
        "\n",
        "Un **valor propio** es un escalar (tradicionalmente representado como $\\lambda$) que simplemente escala el vector propio $v$ de tal manera que se cumple la siguiente ecuación:\n",
        "\n",
        "$Av = \\lambda v$"
      ]
    },
    {
      "cell_type": "markdown",
      "metadata": {
        "id": "G7zVjpW-j3XL"
      },
      "source": [
        "La forma más fácil de entenderlo es a través de un ejemplo:"
      ]
    },
    {
      "cell_type": "code",
      "metadata": {
        "colab": {
          "base_uri": "https://localhost:8080/"
        },
        "id": "GbXJtk1Ej3XL",
        "outputId": "2aca48c9-cf37-4a8e-e652-3bbaf3861cab"
      },
      "source": [
        "A"
      ],
      "execution_count": 79,
      "outputs": [
        {
          "output_type": "execute_result",
          "data": {
            "text/plain": [
              "array([[-1,  4],\n",
              "       [ 2, -2]])"
            ]
          },
          "metadata": {},
          "execution_count": 79
        }
      ]
    },
    {
      "cell_type": "markdown",
      "metadata": {
        "id": "0t2JsM6Wj3XN"
      },
      "source": [
        "Los valores y vectores propios pueden derivarse algebraicamente (por ejemplo, con el [algoritmo QR](https://en.wikipedia.org/wiki/QR_algorithm), que fue desarrollado independientemente en los años 50 por [Vera Kublanovskaya](https://en.wikipedia.org/wiki/Vera_Kublanovskaya) y John Francis), sin embargo esto está fuera del alcance de la serie *ML Foundations*. Haremos trampas con el método NumPy `eig()`, que devuelve una tupla de:\n",
        "\n",
        "* un vector de valores propios\n",
        "* una matriz de vectores propios"
      ]
    },
    {
      "cell_type": "code",
      "metadata": {
        "id": "CYWmgM7jj3XN"
      },
      "source": [
        "lambdas, V = np.linalg.eig(A)"
      ],
      "execution_count": 80,
      "outputs": []
    },
    {
      "cell_type": "markdown",
      "metadata": {
        "id": "OVUp_p6-j3XO"
      },
      "source": [
        "La matriz contiene tantos vectores propios como columnas de A:"
      ]
    },
    {
      "cell_type": "code",
      "metadata": {
        "colab": {
          "base_uri": "https://localhost:8080/"
        },
        "id": "7iHlAMa7j3XO",
        "outputId": "e5213f64-17b7-457f-a595-7634a0087661"
      },
      "source": [
        "V # each column is a separate eigenvector v"
      ],
      "execution_count": 81,
      "outputs": [
        {
          "output_type": "execute_result",
          "data": {
            "text/plain": [
              "array([[ 0.86011126, -0.76454754],\n",
              "       [ 0.51010647,  0.64456735]])"
            ]
          },
          "metadata": {},
          "execution_count": 81
        }
      ]
    },
    {
      "cell_type": "markdown",
      "metadata": {
        "id": "EBSmc2JLj3XP"
      },
      "source": [
        "Con un valor propio correspondiente para cada vector propio:"
      ]
    },
    {
      "cell_type": "code",
      "metadata": {
        "colab": {
          "base_uri": "https://localhost:8080/"
        },
        "id": "QYJbCydNj3XP",
        "outputId": "74a0a692-543e-4ffb-e7ea-6010e2b50ba0"
      },
      "source": [
        "lambdas"
      ],
      "execution_count": 82,
      "outputs": [
        {
          "output_type": "execute_result",
          "data": {
            "text/plain": [
              "array([ 1.37228132, -4.37228132])"
            ]
          },
          "metadata": {},
          "execution_count": 82
        }
      ]
    },
    {
      "cell_type": "markdown",
      "metadata": {
        "id": "OoZPiaBMj3XR"
      },
      "source": [
        "Confirmemos que $Av = \\lambda v$ para el primer vector propio:"
      ]
    },
    {
      "cell_type": "code",
      "metadata": {
        "colab": {
          "base_uri": "https://localhost:8080/"
        },
        "id": "n1QZ57TJj3XR",
        "outputId": "a38027fd-ae00-486e-8a76-325cfe104b52"
      },
      "source": [
        "v = V[:,0]\n",
        "v"
      ],
      "execution_count": 83,
      "outputs": [
        {
          "output_type": "execute_result",
          "data": {
            "text/plain": [
              "array([0.86011126, 0.51010647])"
            ]
          },
          "metadata": {},
          "execution_count": 83
        }
      ]
    },
    {
      "cell_type": "code",
      "metadata": {
        "colab": {
          "base_uri": "https://localhost:8080/"
        },
        "id": "6vwkWMiIj3XV",
        "outputId": "74f5d74a-a98b-4e0c-81c6-07c42f99bc30"
      },
      "source": [
        "lambduh = lambdas[0] # notart que \"lambda\" es una palabra reservada en Python\n",
        "lambduh"
      ],
      "execution_count": 84,
      "outputs": [
        {
          "output_type": "execute_result",
          "data": {
            "text/plain": [
              "np.float64(1.3722813232690143)"
            ]
          },
          "metadata": {},
          "execution_count": 84
        }
      ]
    },
    {
      "cell_type": "code",
      "metadata": {
        "colab": {
          "base_uri": "https://localhost:8080/"
        },
        "id": "Leh9n8QBj3XW",
        "outputId": "f6391fe6-477e-4a29-bd85-b9a29c274f52"
      },
      "source": [
        "Av = np.dot(A, v)\n",
        "Av"
      ],
      "execution_count": 85,
      "outputs": [
        {
          "output_type": "execute_result",
          "data": {
            "text/plain": [
              "array([1.18031462, 0.70000958])"
            ]
          },
          "metadata": {},
          "execution_count": 85
        }
      ]
    },
    {
      "cell_type": "code",
      "metadata": {
        "colab": {
          "base_uri": "https://localhost:8080/"
        },
        "id": "PROIJU30j3XX",
        "outputId": "890f5e61-d4ce-426c-c446-0379dc5fcc8c"
      },
      "source": [
        "lambduh * v"
      ],
      "execution_count": 86,
      "outputs": [
        {
          "output_type": "execute_result",
          "data": {
            "text/plain": [
              "array([1.18031462, 0.70000958])"
            ]
          },
          "metadata": {},
          "execution_count": 86
        }
      ]
    },
    {
      "cell_type": "code",
      "metadata": {
        "colab": {
          "base_uri": "https://localhost:8080/",
          "height": 435
        },
        "id": "0bT3vjoQj3XY",
        "outputId": "8d2fb6f7-895d-4f80-85be-bf6b9c3960df"
      },
      "source": [
        "plot_vectors([Av, v], ['blue', 'lightblue'])\n",
        "plt.xlim(-1, 2)\n",
        "_ = plt.ylim(-1, 2)"
      ],
      "execution_count": 87,
      "outputs": [
        {
          "output_type": "display_data",
          "data": {
            "text/plain": [
              "<Figure size 640x480 with 1 Axes>"
            ],
            "image/png": "[encoded data removed]"
          },
          "metadata": {}
        }
      ]
    },
    {
      "cell_type": "markdown",
      "metadata": {
        "id": "tKQI4691j3XZ"
      },
      "source": [
        "Y de nuevo para el segundo vector propio de A:"
      ]
    },
    {
      "cell_type": "code",
      "metadata": {
        "colab": {
          "base_uri": "https://localhost:8080/"
        },
        "id": "riOJuqz3j3XZ",
        "outputId": "e56f670b-f5c8-4904-9de9-318f4ac1863e"
      },
      "source": [
        "v2 = V[:,1]\n",
        "v2"
      ],
      "execution_count": 88,
      "outputs": [
        {
          "output_type": "execute_result",
          "data": {
            "text/plain": [
              "array([-0.76454754,  0.64456735])"
            ]
          },
          "metadata": {},
          "execution_count": 88
        }
      ]
    },
    {
      "cell_type": "code",
      "metadata": {
        "colab": {
          "base_uri": "https://localhost:8080/"
        },
        "id": "QveeHYhDj3Xa",
        "outputId": "29073812-2fc4-4504-b059-176e09d404d9"
      },
      "source": [
        "lambda2 = lambdas[1]\n",
        "lambda2"
      ],
      "execution_count": 89,
      "outputs": [
        {
          "output_type": "execute_result",
          "data": {
            "text/plain": [
              "np.float64(-4.372281323269014)"
            ]
          },
          "metadata": {},
          "execution_count": 89
        }
      ]
    },
    {
      "cell_type": "code",
      "metadata": {
        "colab": {
          "base_uri": "https://localhost:8080/"
        },
        "id": "TDk1VoVIj3Xb",
        "outputId": "da538c67-ca53-4efc-e704-a7039fb12000"
      },
      "source": [
        "Av2 = np.dot(A, v2)\n",
        "Av2"
      ],
      "execution_count": 90,
      "outputs": [
        {
          "output_type": "execute_result",
          "data": {
            "text/plain": [
              "array([ 3.34281692, -2.81822977])"
            ]
          },
          "metadata": {},
          "execution_count": 90
        }
      ]
    },
    {
      "cell_type": "code",
      "metadata": {
        "colab": {
          "base_uri": "https://localhost:8080/"
        },
        "id": "smlYxxgpj3Xc",
        "outputId": "131d4b4f-7842-43e3-fac0-c3e2afd7114a"
      },
      "source": [
        "lambda2 * v2"
      ],
      "execution_count": 91,
      "outputs": [
        {
          "output_type": "execute_result",
          "data": {
            "text/plain": [
              "array([ 3.34281692, -2.81822977])"
            ]
          },
          "metadata": {},
          "execution_count": 91
        }
      ]
    },
    {
      "cell_type": "code",
      "metadata": {
        "colab": {
          "base_uri": "https://localhost:8080/",
          "height": 435
        },
        "id": "3IigKHp0j3Xd",
        "outputId": "a2fa378d-8646-4788-bb52-a01f8854b0f4"
      },
      "source": [
        "plot_vectors([Av, v, Av2, v2],\n",
        "            ['blue', 'lightblue', 'green', 'lightgreen'])\n",
        "plt.xlim(-1, 4)\n",
        "_ = plt.ylim(-3, 2)"
      ],
      "execution_count": 92,
      "outputs": [
        {
          "output_type": "display_data",
          "data": {
            "text/plain": [
              "<Figure size 640x480 with 1 Axes>"
            ],
            "image/png": "[encoded data removed]"
          },
          "metadata": {}
        }
      ]
    },
    {
      "cell_type": "markdown",
      "metadata": {
        "id": "VF9uLWjOj3Xe"
      },
      "source": [
        "Usando el método `eig()` de PyTorch, podemos hacer exactamente lo mismo:"
      ]
    },
    {
      "cell_type": "code",
      "metadata": {
        "colab": {
          "base_uri": "https://localhost:8080/"
        },
        "id": "EcJa6w0mj3Xe",
        "outputId": "d3eb7592-f3d7-4c21-e68b-74f220109b60"
      },
      "source": [
        "A"
      ],
      "execution_count": 93,
      "outputs": [
        {
          "output_type": "execute_result",
          "data": {
            "text/plain": [
              "array([[-1,  4],\n",
              "       [ 2, -2]])"
            ]
          },
          "metadata": {},
          "execution_count": 93
        }
      ]
    },
    {
      "cell_type": "code",
      "metadata": {
        "colab": {
          "base_uri": "https://localhost:8080/"
        },
        "id": "9WvCqoRij3Xf",
        "outputId": "164a6ae6-92be-4e8f-849e-f77d2e3acac7"
      },
      "source": [
        "A_p = torch.tensor([[-1, 4], [2, -2.]]) # debe ser tipo float para poder usar PyTorch eig()\n",
        "A_p"
      ],
      "execution_count": 94,
      "outputs": [
        {
          "output_type": "execute_result",
          "data": {
            "text/plain": [
              "tensor([[-1.,  4.],\n",
              "        [ 2., -2.]])"
            ]
          },
          "metadata": {},
          "execution_count": 94
        }
      ]
    },
    {
      "cell_type": "code",
      "metadata": {
        "id": "TE1W1lykjHfW"
      },
      "source": [
        "lambdas_cplx, V_cplx = torch.linalg.eig(A_p) # produce números complejos porque las matrices reales pueden tener vectores propios complejos"
      ],
      "execution_count": 95,
      "outputs": []
    },
    {
      "cell_type": "code",
      "metadata": {
        "id": "lEIkBb8OjhTk",
        "outputId": "b7aa2b93-1b67-4569-aa02-5094da3e6326",
        "colab": {
          "base_uri": "https://localhost:8080/"
        }
      },
      "source": [
        "V_cplx # los valores de tipo complejo con parte imaginaria «0.j» son en realidad números reales"
      ],
      "execution_count": 96,
      "outputs": [
        {
          "output_type": "execute_result",
          "data": {
            "text/plain": [
              "tensor([[ 0.8601+0.j, -0.7645+0.j],\n",
              "        [ 0.5101+0.j,  0.6446+0.j]])"
            ]
          },
          "metadata": {},
          "execution_count": 96
        }
      ]
    },
    {
      "cell_type": "code",
      "metadata": {
        "id": "ycqfObc1pyca",
        "outputId": "3ea4b642-0fa2-4091-c287-2ac4aa7ffa8b",
        "colab": {
          "base_uri": "https://localhost:8080/"
        }
      },
      "source": [
        "V_p = V_cplx.float()\n",
        "V_p"
      ],
      "execution_count": 97,
      "outputs": [
        {
          "output_type": "stream",
          "name": "stderr",
          "text": [
            "/tmp/ipython-input-97-1096125134.py:1: UserWarning: Casting complex values to real discards the imaginary part (Triggered internally at /pytorch/aten/src/ATen/native/Copy.cpp:308.)\n",
            "  V_p = V_cplx.float()\n"
          ]
        },
        {
          "output_type": "execute_result",
          "data": {
            "text/plain": [
              "tensor([[ 0.8601, -0.7645],\n",
              "        [ 0.5101,  0.6446]])"
            ]
          },
          "metadata": {},
          "execution_count": 97
        }
      ]
    },
    {
      "cell_type": "code",
      "metadata": {
        "id": "h9_Ri5MGntlz",
        "outputId": "680b80a4-0985-4203-c736-226f0b6ac683",
        "colab": {
          "base_uri": "https://localhost:8080/"
        }
      },
      "source": [
        "v_p = V_p[:,0]\n",
        "v_p"
      ],
      "execution_count": 98,
      "outputs": [
        {
          "output_type": "execute_result",
          "data": {
            "text/plain": [
              "tensor([0.8601, 0.5101])"
            ]
          },
          "metadata": {},
          "execution_count": 98
        }
      ]
    },
    {
      "cell_type": "code",
      "metadata": {
        "id": "cnjVvGxEqHM6",
        "outputId": "97eba2b9-7134-4d69-be8a-4880b8d0bcec",
        "colab": {
          "base_uri": "https://localhost:8080/"
        }
      },
      "source": [
        "lambdas_cplx"
      ],
      "execution_count": 99,
      "outputs": [
        {
          "output_type": "execute_result",
          "data": {
            "text/plain": [
              "tensor([ 1.3723+0.j, -4.3723+0.j])"
            ]
          },
          "metadata": {},
          "execution_count": 99
        }
      ]
    },
    {
      "cell_type": "code",
      "metadata": {
        "id": "_7bIBSQuoGVk",
        "outputId": "d3ecc3b7-d53d-4541-8825-ec632f5d9684",
        "colab": {
          "base_uri": "https://localhost:8080/"
        }
      },
      "source": [
        "lambdas_p = lambdas_cplx.float()\n",
        "lambdas_p"
      ],
      "execution_count": 100,
      "outputs": [
        {
          "output_type": "execute_result",
          "data": {
            "text/plain": [
              "tensor([ 1.3723, -4.3723])"
            ]
          },
          "metadata": {},
          "execution_count": 100
        }
      ]
    },
    {
      "cell_type": "code",
      "metadata": {
        "colab": {
          "base_uri": "https://localhost:8080/"
        },
        "id": "VrYaxNCRj3Xj",
        "outputId": "9d558ba8-036a-46da-c2aa-e637c83dc2c9"
      },
      "source": [
        "lambda_p = lambdas_p[0]\n",
        "lambda_p"
      ],
      "execution_count": 101,
      "outputs": [
        {
          "output_type": "execute_result",
          "data": {
            "text/plain": [
              "tensor(1.3723)"
            ]
          },
          "metadata": {},
          "execution_count": 101
        }
      ]
    },
    {
      "cell_type": "code",
      "metadata": {
        "colab": {
          "base_uri": "https://localhost:8080/"
        },
        "id": "SUq1UGH7j3Xl",
        "outputId": "9b0e5432-1181-4493-9cfd-303d7bd0fc8f"
      },
      "source": [
        "Av_p = torch.matmul(A_p, v_p) # matmul() espera tensores tipo float\n",
        "Av_p"
      ],
      "execution_count": 102,
      "outputs": [
        {
          "output_type": "execute_result",
          "data": {
            "text/plain": [
              "tensor([1.1803, 0.7000])"
            ]
          },
          "metadata": {},
          "execution_count": 102
        }
      ]
    },
    {
      "cell_type": "code",
      "metadata": {
        "colab": {
          "base_uri": "https://localhost:8080/"
        },
        "id": "co1VNLIej3Xn",
        "outputId": "0564450b-666d-4083-d794-2e827f1a99cf"
      },
      "source": [
        "lambda_p * v_p"
      ],
      "execution_count": 103,
      "outputs": [
        {
          "output_type": "execute_result",
          "data": {
            "text/plain": [
              "tensor([1.1803, 0.7000])"
            ]
          },
          "metadata": {},
          "execution_count": 103
        }
      ]
    },
    {
      "cell_type": "code",
      "metadata": {
        "colab": {
          "base_uri": "https://localhost:8080/"
        },
        "id": "1b47vG92j3Xo",
        "outputId": "2421bc7b-f530-4758-a621-d67b834bec62"
      },
      "source": [
        "v2_p = V_p[:,1]\n",
        "v2_p"
      ],
      "execution_count": 104,
      "outputs": [
        {
          "output_type": "execute_result",
          "data": {
            "text/plain": [
              "tensor([-0.7645,  0.6446])"
            ]
          },
          "metadata": {},
          "execution_count": 104
        }
      ]
    },
    {
      "cell_type": "code",
      "metadata": {
        "colab": {
          "base_uri": "https://localhost:8080/"
        },
        "id": "B-evpW17j3Xp",
        "outputId": "03b5ccba-a071-4a01-e98e-ec53c70ab82e"
      },
      "source": [
        "lambda2_p = lambdas_p[1]\n",
        "lambda2_p"
      ],
      "execution_count": 105,
      "outputs": [
        {
          "output_type": "execute_result",
          "data": {
            "text/plain": [
              "tensor(-4.3723)"
            ]
          },
          "metadata": {},
          "execution_count": 105
        }
      ]
    },
    {
      "cell_type": "code",
      "metadata": {
        "colab": {
          "base_uri": "https://localhost:8080/"
        },
        "id": "2d5gjh2sj3Xq",
        "outputId": "73d0f975-c2f2-49a7-dd5f-6e0e286babf3"
      },
      "source": [
        "Av2_p = torch.matmul(A_p.float(), v2_p.float())\n",
        "Av2_p"
      ],
      "execution_count": 106,
      "outputs": [
        {
          "output_type": "execute_result",
          "data": {
            "text/plain": [
              "tensor([ 3.3428, -2.8182])"
            ]
          },
          "metadata": {},
          "execution_count": 106
        }
      ]
    },
    {
      "cell_type": "code",
      "metadata": {
        "colab": {
          "base_uri": "https://localhost:8080/"
        },
        "id": "8-ki3i8dj3Xr",
        "outputId": "6ff4c2dc-eec4-44ed-d993-bf81d0994195"
      },
      "source": [
        "lambda2_p.float() * v2_p.float()"
      ],
      "execution_count": 107,
      "outputs": [
        {
          "output_type": "execute_result",
          "data": {
            "text/plain": [
              "tensor([ 3.3428, -2.8182])"
            ]
          },
          "metadata": {},
          "execution_count": 107
        }
      ]
    },
    {
      "cell_type": "code",
      "metadata": {
        "colab": {
          "base_uri": "https://localhost:8080/",
          "height": 435
        },
        "id": "s2p8yb_Zj3Xs",
        "outputId": "4124dd06-fcad-445b-8069-7393b45184f9"
      },
      "source": [
        "plot_vectors([Av_p.numpy(), v_p.numpy(), Av2_p.numpy(), v2_p.numpy()],\n",
        "            ['blue', 'lightblue', 'green', 'lightgreen'])\n",
        "plt.xlim(-1, 4)\n",
        "_ = plt.ylim(-3, 2)"
      ],
      "execution_count": 108,
      "outputs": [
        {
          "output_type": "display_data",
          "data": {
            "text/plain": [
              "<Figure size 640x480 with 1 Axes>"
            ],
            "image/png": "[encoded data removed]"
          },
          "metadata": {}
        }
      ]
    },
    {
      "cell_type": "markdown",
      "metadata": {
        "id": "6-HqwyESj3Xt"
      },
      "source": [
        "### Vectores Propios en dimensiones >2"
      ]
    },
    {
      "cell_type": "markdown",
      "metadata": {
        "id": "M01JPwToj3Xt"
      },
      "source": [
        "Aunque la representación se complica en espacios de mayor dimensión, podemos encontrar y utilizar eigenvectores con más de dos dimensiones. He aquí un ejemplo en 3D (se manejan tres dimensiones en tres filas):"
      ]
    },
    {
      "cell_type": "code",
      "metadata": {
        "colab": {
          "base_uri": "https://localhost:8080/"
        },
        "id": "HWsBDEMgj3Xt",
        "outputId": "f1bf0388-9879-4a1e-f6d0-5cf82d3e4ace"
      },
      "source": [
        "X = np.array([[25, 2, 9], [5, 26, -5], [3, 7, -1]])\n",
        "X"
      ],
      "execution_count": 109,
      "outputs": [
        {
          "output_type": "execute_result",
          "data": {
            "text/plain": [
              "array([[25,  2,  9],\n",
              "       [ 5, 26, -5],\n",
              "       [ 3,  7, -1]])"
            ]
          },
          "metadata": {},
          "execution_count": 109
        }
      ]
    },
    {
      "cell_type": "code",
      "metadata": {
        "id": "Y-uUMyRFj3Xv"
      },
      "source": [
        "lambdas_X, V_X = np.linalg.eig(X)"
      ],
      "execution_count": 110,
      "outputs": []
    },
    {
      "cell_type": "code",
      "metadata": {
        "colab": {
          "base_uri": "https://localhost:8080/"
        },
        "id": "virh7GVFj3Xw",
        "outputId": "c3ba6fcf-748b-4428-ac6c-87431a816b7b"
      },
      "source": [
        "V_X # cada vector propio en una de las columnas de X"
      ],
      "execution_count": 111,
      "outputs": [
        {
          "output_type": "execute_result",
          "data": {
            "text/plain": [
              "array([[-0.71175736, -0.6501921 , -0.34220476],\n",
              "       [-0.66652125,  0.74464056,  0.23789717],\n",
              "       [-0.22170001,  0.15086635,  0.90901091]])"
            ]
          },
          "metadata": {},
          "execution_count": 111
        }
      ]
    },
    {
      "cell_type": "code",
      "metadata": {
        "colab": {
          "base_uri": "https://localhost:8080/"
        },
        "id": "9yHkmEd0j3Xw",
        "outputId": "5d1bcb6f-db3e-4843-abf6-8be02a16c822"
      },
      "source": [
        "lambdas_X # un valor propio correspondiente para cada vector propio"
      ],
      "execution_count": 112,
      "outputs": [
        {
          "output_type": "execute_result",
          "data": {
            "text/plain": [
              "array([29.67623202, 20.62117365, -0.29740567])"
            ]
          },
          "metadata": {},
          "execution_count": 112
        }
      ]
    },
    {
      "cell_type": "markdown",
      "metadata": {
        "id": "Qp3qPeUxj3Xy"
      },
      "source": [
        "Confirmar que $Xv = \\lambda v$ para un ejemplo de vector propio:"
      ]
    },
    {
      "cell_type": "code",
      "metadata": {
        "colab": {
          "base_uri": "https://localhost:8080/"
        },
        "id": "dUEfbThhj3Xy",
        "outputId": "35d16e85-507c-4431-a306-6ef26931af01"
      },
      "source": [
        "v_X = V_X[:,0]\n",
        "v_X"
      ],
      "execution_count": 113,
      "outputs": [
        {
          "output_type": "execute_result",
          "data": {
            "text/plain": [
              "array([-0.71175736, -0.66652125, -0.22170001])"
            ]
          },
          "metadata": {},
          "execution_count": 113
        }
      ]
    },
    {
      "cell_type": "code",
      "metadata": {
        "colab": {
          "base_uri": "https://localhost:8080/"
        },
        "id": "xhnF5asDj3X0",
        "outputId": "7be015c9-5a09-4f2d-b2f0-e3780b625ed3"
      },
      "source": [
        "lambda_X = lambdas_X[0]\n",
        "lambda_X"
      ],
      "execution_count": 114,
      "outputs": [
        {
          "output_type": "execute_result",
          "data": {
            "text/plain": [
              "np.float64(29.676232023948902)"
            ]
          },
          "metadata": {},
          "execution_count": 114
        }
      ]
    },
    {
      "cell_type": "code",
      "metadata": {
        "colab": {
          "base_uri": "https://localhost:8080/"
        },
        "id": "K3bA6vRzj3X1",
        "outputId": "640de826-0c39-4ccb-8869-996e4e831ca4"
      },
      "source": [
        "np.dot(X, v_X) # producto de matrices"
      ],
      "execution_count": 115,
      "outputs": [
        {
          "output_type": "execute_result",
          "data": {
            "text/plain": [
              "array([-21.12227645, -19.77983919,  -6.5792208 ])"
            ]
          },
          "metadata": {},
          "execution_count": 115
        }
      ]
    },
    {
      "cell_type": "code",
      "metadata": {
        "colab": {
          "base_uri": "https://localhost:8080/"
        },
        "id": "UfN3hk0Gj3X2",
        "outputId": "302ab0a1-6ec3-45f7-e269-474e92c05e2f"
      },
      "source": [
        "lambda_X * v_X"
      ],
      "execution_count": 116,
      "outputs": [
        {
          "output_type": "execute_result",
          "data": {
            "text/plain": [
              "array([-21.12227645, -19.77983919,  -6.5792208 ])"
            ]
          },
          "metadata": {},
          "execution_count": 116
        }
      ]
    },
    {
      "cell_type": "markdown",
      "metadata": {
        "id": "VcjTZv24j3X3"
      },
      "source": [
        "**Ejercicios**:\n",
        "\n",
        "1. Utilizar PyTorch para confirmar $Xv = \\lambda v$ para el primer vector propio de $X$.\n",
        "2. Confirmar $Xv = \\lambda v$ para los restantes vectores propios de $X$ (se puede utilizar NumPy o PyTorch, lo que prefiera)."
      ]
    },
    {
      "cell_type": "code",
      "source": [
        "\n",
        "X_p = torch.from_numpy(X).float()\n",
        "lambdas_X_p, V_X_p = torch.linalg.eig(X_p)\n",
        "V_X_p\n",
        "\n",
        "for i in range(V_X_p.shape[1]):\n",
        "  v_x_p = V_X_p[:,i]\n",
        "  X_V_p = torch.matmul(X_p,v_x_p.float())\n",
        "  lambda_V_p =lambdas_X[i]*V_X_p[:,i]\n",
        "  print(\"X_V_p\",i+1,X_V_p)\n",
        "  print(\"lambda\",i+1,lambda_V_p.float())\n",
        "  print(\"Coinciden\")\n"
      ],
      "metadata": {
        "id": "Y3BRB3N91fL4",
        "outputId": "d03faee0-b754-4184-9b7c-67546af1b4ea",
        "colab": {
          "base_uri": "https://localhost:8080/"
        }
      },
      "execution_count": 123,
      "outputs": [
        {
          "output_type": "stream",
          "name": "stdout",
          "text": [
            "X_V_p 1 tensor([21.1223, 19.7798,  6.5792])\n",
            "lambda 1 tensor([21.1223, 19.7798,  6.5792])\n",
            "Coinciden\n",
            "X_V_p 2 tensor([ 13.4077, -15.3554,  -3.1110])\n",
            "lambda 2 tensor([ 13.4077, -15.3554,  -3.1110])\n",
            "Coinciden\n",
            "X_V_p 3 tensor([ 0.1018, -0.0708, -0.2703])\n",
            "lambda 3 tensor([ 0.1018, -0.0708, -0.2703])\n",
            "Coinciden\n"
          ]
        }
      ]
    },
    {
      "cell_type": "markdown",
      "metadata": {
        "id": "5z5AdeHKj3X4"
      },
      "source": [
        "**Volver a las slides aquí.**"
      ]
    },
    {
      "cell_type": "markdown",
      "metadata": {
        "id": "F44cMjS8j3Wc"
      },
      "source": [
        "### Determinantes de Matrices 2x2"
      ]
    },
    {
      "cell_type": "code",
      "metadata": {
        "id": "GjsXPZEsj3Wc"
      },
      "source": [
        "X = np.array([[4, 2], [-5, -3]])\n",
        "X"
      ],
      "execution_count": null,
      "outputs": []
    },
    {
      "cell_type": "code",
      "metadata": {
        "id": "4tg8BDzOj3We"
      },
      "source": [
        "np.linalg.det(X)"
      ],
      "execution_count": null,
      "outputs": []
    },
    {
      "cell_type": "markdown",
      "metadata": {
        "id": "87wpY5hUj3Wg"
      },
      "source": [
        "**Volver a las slides aquí.**"
      ]
    },
    {
      "cell_type": "code",
      "metadata": {
        "id": "o5jp6vkNj3Wg"
      },
      "source": [
        "N = np.array([[-4, 1], [-8, 2]])\n",
        "N"
      ],
      "execution_count": null,
      "outputs": []
    },
    {
      "cell_type": "code",
      "metadata": {
        "id": "ejdkdN7Lj3Wi"
      },
      "source": [
        "np.linalg.det(N)"
      ],
      "execution_count": null,
      "outputs": []
    },
    {
      "cell_type": "code",
      "metadata": {
        "id": "nbIrtcaCj3Wj"
      },
      "source": [
        "# Descomentar la línea siguiente da lugar a un error de \"matriz singular\"\n",
        "# Ninv = np.linalg.inv(N)"
      ],
      "execution_count": null,
      "outputs": []
    },
    {
      "cell_type": "code",
      "metadata": {
        "id": "kBT5VC5Nj3Wl"
      },
      "source": [
        "N = torch.tensor([[-4, 1], [-8, 2.]]) # must use float not int"
      ],
      "execution_count": null,
      "outputs": []
    },
    {
      "cell_type": "code",
      "metadata": {
        "id": "MQA5g0gGj3Wm"
      },
      "source": [
        "torch.det(N)"
      ],
      "execution_count": null,
      "outputs": []
    },
    {
      "cell_type": "markdown",
      "metadata": {
        "id": "XBIJB7tfj3Wn"
      },
      "source": [
        "**Volver a las slides aquí.**"
      ]
    },
    {
      "cell_type": "markdown",
      "metadata": {
        "id": "rwwoY1k6j3Wn"
      },
      "source": [
        "### Generalización de los Determinantes"
      ]
    },
    {
      "cell_type": "code",
      "metadata": {
        "id": "bqjRKaCaj3Wn"
      },
      "source": [
        "X = np.array([[1, 2, 4], [2, -1, 3], [0, 5, 1]])\n",
        "X"
      ],
      "execution_count": null,
      "outputs": []
    },
    {
      "cell_type": "code",
      "metadata": {
        "id": "uimvv39Nj3Wp"
      },
      "source": [
        "np.linalg.det(X)"
      ],
      "execution_count": null,
      "outputs": []
    },
    {
      "cell_type": "markdown",
      "metadata": {
        "id": "hQEG5ad1rmr2"
      },
      "source": [
        "**Volver a las slides aquí.**"
      ]
    },
    {
      "cell_type": "markdown",
      "metadata": {
        "id": "d2MIHl4MLWw0"
      },
      "source": [
        "### Determinantes y valores propios"
      ]
    },
    {
      "cell_type": "code",
      "metadata": {
        "id": "g0uEEY2qj3X6"
      },
      "source": [
        "lambdas, V = np.linalg.eig(X)\n",
        "lambdas"
      ],
      "execution_count": null,
      "outputs": []
    },
    {
      "cell_type": "code",
      "metadata": {
        "id": "41P8dP9Gj3X8"
      },
      "source": [
        "np.product(lambdas)"
      ],
      "execution_count": null,
      "outputs": []
    },
    {
      "cell_type": "markdown",
      "metadata": {
        "id": "Rf83gqIULWw2"
      },
      "source": [
        "**Volver a las slides aquí.**"
      ]
    },
    {
      "cell_type": "markdown",
      "metadata": {
        "id": "6zNOgq7I62YA"
      },
      "source": [
        "Aquí tenemos $|\\text{det}(X)|$ en NumPy:"
      ]
    },
    {
      "cell_type": "code",
      "metadata": {
        "id": "a7Bleu07j3X-"
      },
      "source": [
        "np.abs(np.linalg.det(X))"
      ],
      "execution_count": null,
      "outputs": []
    },
    {
      "cell_type": "markdown",
      "metadata": {
        "id": "KZQaYZ0q7Zn2"
      },
      "source": [
        "Vamos a utilizar una matriz $B$, que se compone de vectores base, para explorar el impacto de la aplicación de matrices con diferentes valores $|\\text{det}(X)|$:"
      ]
    },
    {
      "cell_type": "code",
      "metadata": {
        "id": "rMPe8LOXj3X_"
      },
      "source": [
        "B = np.array([[1, 0], [0, 1]])\n",
        "B"
      ],
      "execution_count": null,
      "outputs": []
    },
    {
      "cell_type": "code",
      "metadata": {
        "id": "zlhnOiNzj3YA"
      },
      "source": [
        "plot_vectors([vectorfy(B, 0), vectorfy(B, 1)],\n",
        "            ['lightblue', 'lightgreen'])\n",
        "plt.xlim(-1, 3)\n",
        "_ = plt.ylim(-1, 3)"
      ],
      "execution_count": null,
      "outputs": []
    },
    {
      "cell_type": "markdown",
      "metadata": {
        "id": "RIkz1gCO7_TW"
      },
      "source": [
        "Empecemos aplicando la matriz $N$ a $B$, recordando de antes que $N$ es singular:"
      ]
    },
    {
      "cell_type": "code",
      "metadata": {
        "id": "Fjpem_6Ij3YB"
      },
      "source": [
        "N"
      ],
      "execution_count": null,
      "outputs": []
    },
    {
      "cell_type": "code",
      "metadata": {
        "id": "2BhgWTvaj3YC"
      },
      "source": [
        "np.linalg.det(N)"
      ],
      "execution_count": null,
      "outputs": []
    },
    {
      "cell_type": "code",
      "metadata": {
        "id": "O3XSySPaj3YE"
      },
      "source": [
        "NB = np.dot(N, B)\n",
        "NB"
      ],
      "execution_count": null,
      "outputs": []
    },
    {
      "cell_type": "code",
      "metadata": {
        "id": "GLiyz0nxj3YF"
      },
      "source": [
        "plot_vectors([vectorfy(B, 0), vectorfy(B, 1), vectorfy(NB, 0), vectorfy(NB, 1)],\n",
        "            ['lightblue', 'lightgreen', 'blue', 'green'])\n",
        "plt.xlim(-6, 6)\n",
        "_ = plt.ylim(-9, 3)"
      ],
      "execution_count": null,
      "outputs": []
    },
    {
      "cell_type": "code",
      "metadata": {
        "id": "9ErYF2Ss5zZj"
      },
      "source": [
        "lambdas, V = np.linalg.eig(N)\n",
        "lambdas"
      ],
      "execution_count": null,
      "outputs": []
    },
    {
      "cell_type": "markdown",
      "metadata": {
        "id": "TLwFZuuN8L78"
      },
      "source": [
        "Si cualquiera de los valores propios de una matriz es cero, entonces el producto de los valores propios debe ser cero y el determinante también debe ser cero."
      ]
    },
    {
      "cell_type": "markdown",
      "metadata": {
        "id": "tT6ZmuaN8cwJ"
      },
      "source": [
        "Vamos a aplicar $I_2$ a $B$:"
      ]
    },
    {
      "cell_type": "code",
      "metadata": {
        "id": "mqEkY-8lj3YH"
      },
      "source": [
        "I"
      ],
      "execution_count": null,
      "outputs": []
    },
    {
      "cell_type": "code",
      "metadata": {
        "id": "zwmKA0wLj3YI"
      },
      "source": [
        "np.linalg.det(I)"
      ],
      "execution_count": null,
      "outputs": []
    },
    {
      "cell_type": "code",
      "metadata": {
        "id": "xaIq_dUKj3YJ"
      },
      "source": [
        "IB = np.dot(I, B)\n",
        "IB"
      ],
      "execution_count": null,
      "outputs": []
    },
    {
      "cell_type": "code",
      "metadata": {
        "id": "8y6svzaLj3YK"
      },
      "source": [
        "plot_vectors([vectorfy(B, 0), vectorfy(B, 1), vectorfy(IB, 0), vectorfy(IB, 1)],\n",
        "            ['lightblue', 'lightgreen', 'blue', 'green'])\n",
        "plt.xlim(-1, 3)\n",
        "_ = plt.ylim(-1, 3)"
      ],
      "execution_count": null,
      "outputs": []
    },
    {
      "cell_type": "code",
      "metadata": {
        "id": "IWkwRV_46T-q"
      },
      "source": [
        "lambdas, V = np.linalg.eig(I)\n",
        "lambdas"
      ],
      "execution_count": null,
      "outputs": []
    },
    {
      "cell_type": "markdown",
      "metadata": {
        "id": "Dfrv5ipF9Nx3"
      },
      "source": [
        "Muy bien, aplicar una matriz identidad no es la operación más excitante del mundo. Ahora vamos a aplicar esta matriz $J$ que es más interesante:"
      ]
    },
    {
      "cell_type": "code",
      "metadata": {
        "id": "Xj4bnqVcj3YL"
      },
      "source": [
        "J = np.array([[-0.5, 0], [0, 2]])\n",
        "J"
      ],
      "execution_count": null,
      "outputs": []
    },
    {
      "cell_type": "code",
      "metadata": {
        "id": "D2ODTOpAj3YM"
      },
      "source": [
        "np.linalg.det(J)"
      ],
      "execution_count": null,
      "outputs": []
    },
    {
      "cell_type": "code",
      "metadata": {
        "id": "3kHJ7Q2Ij3YN"
      },
      "source": [
        "np.abs(np.linalg.det(J))"
      ],
      "execution_count": null,
      "outputs": []
    },
    {
      "cell_type": "code",
      "metadata": {
        "id": "ABciINQwj3YO"
      },
      "source": [
        "JB = np.dot(J, B)\n",
        "JB"
      ],
      "execution_count": null,
      "outputs": []
    },
    {
      "cell_type": "code",
      "metadata": {
        "id": "5nWa22ZNj3YO"
      },
      "source": [
        "plot_vectors([vectorfy(B, 0), vectorfy(B, 1), vectorfy(JB, 0), vectorfy(JB, 1)],\n",
        "            ['lightblue', 'lightgreen', 'blue', 'green'])\n",
        "plt.xlim(-1, 3)\n",
        "_ = plt.ylim(-1, 3)"
      ],
      "execution_count": null,
      "outputs": []
    },
    {
      "cell_type": "code",
      "metadata": {
        "id": "K4GTT7Ja6azt"
      },
      "source": [
        "lambdas, V = np.linalg.eig(J)\n",
        "lambdas"
      ],
      "execution_count": null,
      "outputs": []
    },
    {
      "cell_type": "markdown",
      "metadata": {
        "id": "b1KENtMQ9g4g"
      },
      "source": [
        "Por último, apliquemos la matriz $D$, que escala los vectores doblando a lo largo de los ejes $x$ e $y$:"
      ]
    },
    {
      "cell_type": "code",
      "metadata": {
        "id": "u-OI7xBWj3YQ"
      },
      "source": [
        "D = I*2\n",
        "D"
      ],
      "execution_count": null,
      "outputs": []
    },
    {
      "cell_type": "code",
      "metadata": {
        "id": "iKoTu9sbj3YR"
      },
      "source": [
        "np.linalg.det(D)"
      ],
      "execution_count": null,
      "outputs": []
    },
    {
      "cell_type": "code",
      "metadata": {
        "id": "kTb0o2Ydj3YS"
      },
      "source": [
        "DB = np.dot(D, B)\n",
        "DB"
      ],
      "execution_count": null,
      "outputs": []
    },
    {
      "cell_type": "code",
      "metadata": {
        "id": "3J2ou_zSj3YT"
      },
      "source": [
        "plot_vectors([vectorfy(B, 0), vectorfy(B, 1), vectorfy(DB, 0), vectorfy(DB, 1)],\n",
        "            ['lightblue', 'lightgreen', 'blue', 'green'])\n",
        "plt.xlim(-1, 3)\n",
        "_ = plt.ylim(-1, 3)"
      ],
      "execution_count": null,
      "outputs": []
    },
    {
      "cell_type": "code",
      "metadata": {
        "id": "kTfi_wGC-QCL"
      },
      "source": [
        "lambdas, V = np.linalg.eig(D)\n",
        "lambdas"
      ],
      "execution_count": null,
      "outputs": []
    },
    {
      "cell_type": "markdown",
      "metadata": {
        "id": "Av0R8fddj3Yb"
      },
      "source": [
        "**Volver a las slides aquí.**"
      ]
    },
    {
      "cell_type": "markdown",
      "metadata": {
        "id": "MXNajp3Ej3Yb"
      },
      "source": [
        "### Descomposición Propia"
      ]
    },
    {
      "cell_type": "markdown",
      "metadata": {
        "id": "wQt403xbj3Yb"
      },
      "source": [
        "La **descomposición propia** de alguna matriz $A$ es\n",
        "\n",
        "$A = V \\Lambda V^{-1}$\n",
        "\n",
        "Donde:\n",
        "\n",
        "* Como en los ejemplos anteriores, $V$ es la concatenación de todos los vectores propios de $A$\n",
        "* $\\Lambda$ ($\\lambda$ en mayúsculas) es la matriz diagonal diag($\\lambda$). Obsérvese que la convención es ordenar los valores lambda en orden descendente; como resultado, el primer valor propio (y su vector propio asociado) puede ser una característica primaria de la matriz $A$."
      ]
    },
    {
      "cell_type": "code",
      "metadata": {
        "id": "W7LmR3YGj3Yb"
      },
      "source": [
        "# Esto se utilizó anteriormente como una matriz X; tiene bonitos y limpios valores propios enteros...\n",
        "A = np.array([[4, 2], [-5, -3]])\n",
        "A"
      ],
      "execution_count": null,
      "outputs": []
    },
    {
      "cell_type": "code",
      "metadata": {
        "id": "37zeBrqhj3Yc"
      },
      "source": [
        "lambdas, V = np.linalg.eig(A)"
      ],
      "execution_count": null,
      "outputs": []
    },
    {
      "cell_type": "code",
      "metadata": {
        "id": "b7LtIIMJj3Yd"
      },
      "source": [
        "V"
      ],
      "execution_count": null,
      "outputs": []
    },
    {
      "cell_type": "code",
      "metadata": {
        "id": "q1uuRwcdj3Ye"
      },
      "source": [
        "Vinv = np.linalg.inv(V)\n",
        "Vinv"
      ],
      "execution_count": null,
      "outputs": []
    },
    {
      "cell_type": "code",
      "metadata": {
        "id": "_InHRuS1j3Yf"
      },
      "source": [
        "Lambda = np.diag(lambdas)\n",
        "Lambda"
      ],
      "execution_count": null,
      "outputs": []
    },
    {
      "cell_type": "markdown",
      "metadata": {
        "id": "KSBnzTBZj3Yg"
      },
      "source": [
        "Confirmamos que $A = V \\Lambda V^{-1}$:"
      ]
    },
    {
      "cell_type": "code",
      "metadata": {
        "id": "pG1E3yLYj3Yg"
      },
      "source": [
        "np.dot(V, np.dot(Lambda, Vinv))"
      ],
      "execution_count": null,
      "outputs": []
    },
    {
      "cell_type": "markdown",
      "metadata": {
        "id": "JTmKZk8fj3Yh"
      },
      "source": [
        "La descomposición propia no es posible con todas las matrices. Y en algunos casos en los que es posible, la descomposición propia implica números complejos en lugar de números reales directos.\n",
        "\n",
        "En el aprendizaje automático, sin embargo, normalmente trabajamos con matrices simétricas reales, que pueden descomponerse de forma conveniente y eficiente en vectores propios sólo reales y valores propios sólo reales. Si $A$ es una matriz simétrica real entonces...\n",
        "\n",
        "$A = Q \\Lambda Q^T$\n",
        "\n",
        "...donde $Q$ es análoga a $V$ de la ecuación anterior excepto que es especial porque es una matriz ortogonal."
      ]
    },
    {
      "cell_type": "code",
      "metadata": {
        "id": "GpZLd9Ozj3Yh"
      },
      "source": [
        "A = np.array([[2, 1], [1, 2]])\n",
        "A"
      ],
      "execution_count": null,
      "outputs": []
    },
    {
      "cell_type": "code",
      "metadata": {
        "id": "EJOgExEZj3Yj"
      },
      "source": [
        "lambdas, Q = np.linalg.eig(A)"
      ],
      "execution_count": null,
      "outputs": []
    },
    {
      "cell_type": "code",
      "metadata": {
        "id": "9qouDzN5j3Yk"
      },
      "source": [
        "lambdas"
      ],
      "execution_count": null,
      "outputs": []
    },
    {
      "cell_type": "code",
      "metadata": {
        "id": "JZFyXQzkj3Yl"
      },
      "source": [
        "Lambda = np.diag(lambdas)\n",
        "Lambda"
      ],
      "execution_count": null,
      "outputs": []
    },
    {
      "cell_type": "code",
      "metadata": {
        "id": "BLXaGoVBj3Yl"
      },
      "source": [
        "Q"
      ],
      "execution_count": null,
      "outputs": []
    },
    {
      "cell_type": "markdown",
      "metadata": {
        "id": "UnOfuIf7j3Yo"
      },
      "source": [
        "Confirmemos que $A = Q \\Lambda Q^T$:"
      ]
    },
    {
      "cell_type": "code",
      "metadata": {
        "id": "k4DukMWJj3Yo"
      },
      "source": [
        "np.dot(Q, np.dot(Lambda, Q.T))"
      ],
      "execution_count": null,
      "outputs": []
    },
    {
      "cell_type": "markdown",
      "metadata": {
        "id": "_eq_1nssj3Ym"
      },
      "source": [
        "(Como apunte rápido, podemos demostrar que $Q$ es una matriz ortogonal porque $Q^TQ = QQ^T = I$)."
      ]
    },
    {
      "cell_type": "code",
      "metadata": {
        "id": "TcavBhdEj3Ym"
      },
      "source": [
        "np.dot(Q.T, Q)"
      ],
      "execution_count": null,
      "outputs": []
    },
    {
      "cell_type": "code",
      "metadata": {
        "id": "xup113b8j3Yo"
      },
      "source": [
        "np.dot(Q, Q.T)"
      ],
      "execution_count": null,
      "outputs": []
    },
    {
      "cell_type": "markdown",
      "metadata": {
        "id": "fdJaTKnsj3Yp"
      },
      "source": [
        "**Ejercicios**:\n",
        "\n",
        "1. Utiliza PyTorch para descomponer la matriz $P$ (abajo) en sus componentes $V$, $\\Lambda$, y $V^{-1}$. Confirmar que $P = V \\Lambda V^{-1}$.\n",
        "2. Utilizar PyTorch para descomponer la matriz simétrica $S$ (abajo) en sus componentes $Q$, $\\Lambda$ y $Q^T$. Confirmar que $S = Q \\Lambda Q^T$."
      ]
    },
    {
      "cell_type": "code",
      "metadata": {
        "id": "_RVUCVlvj3Yp"
      },
      "source": [
        "P = torch.tensor([[25, 2, -5], [3, -2, 1], [5, 7, 4.]])\n",
        "P"
      ],
      "execution_count": null,
      "outputs": []
    },
    {
      "cell_type": "code",
      "metadata": {
        "id": "GjKZ_AWLj3Yq"
      },
      "source": [
        "S = torch.tensor([[25, 2, -5], [2, -2, 1], [-5, 1, 4.]])\n",
        "S"
      ],
      "execution_count": null,
      "outputs": []
    },
    {
      "cell_type": "markdown",
      "metadata": {
        "id": "1OFq3uGaj3Yq"
      },
      "source": [
        "**Volver a las slides aquí.**"
      ]
    },
    {
      "cell_type": "markdown",
      "metadata": {
        "id": "gKam0tJOj3Yr"
      },
      "source": [
        "## Segmento 3: Operaciones Matriciales en ML"
      ]
    },
    {
      "cell_type": "markdown",
      "metadata": {
        "id": "j-wbn7omj3Yr"
      },
      "source": [
        "### Descomposición en Valor Singular (SVD)"
      ]
    },
    {
      "cell_type": "markdown",
      "metadata": {
        "id": "x2SHytttj3Yr"
      },
      "source": [
        "Como en las diapositivas, SVD de la matriz $A$ es:\n",
        "\n",
        "$A = UDV^T$\n",
        "\n",
        "Donde:\n",
        "\n",
        "* $U$ es una matriz ortogonal $m \\times m$; sus columnas son los **vectores singulares izquierdos** de $A$.\n",
        "* $V$ es una matriz ortogonal $n \\times n$; sus columnas son los **vectores singulares derechos** de $A$.\n",
        "* $D$ es una matriz diagonal $m \\times n$; los elementos a lo largo de su diagonal son los **valores singulares** de $A$."
      ]
    },
    {
      "cell_type": "code",
      "metadata": {
        "id": "V7hR4Htdj3Yr"
      },
      "source": [
        "A = np.array([[-1, 2], [3, -2], [5, 7]])\n",
        "A"
      ],
      "execution_count": null,
      "outputs": []
    },
    {
      "cell_type": "code",
      "metadata": {
        "id": "ihj2XfMQj3Ys"
      },
      "source": [
        "U, d, VT = np.linalg.svd(A) # V ya está transpuesta!"
      ],
      "execution_count": null,
      "outputs": []
    },
    {
      "cell_type": "code",
      "metadata": {
        "id": "DUfP2aaTj3Yv"
      },
      "source": [
        "U"
      ],
      "execution_count": null,
      "outputs": []
    },
    {
      "cell_type": "code",
      "metadata": {
        "id": "s_Fkoarvj3Yw"
      },
      "source": [
        "VT"
      ],
      "execution_count": null,
      "outputs": []
    },
    {
      "cell_type": "code",
      "metadata": {
        "id": "wNSRDcfsj3Yx"
      },
      "source": [
        "d"
      ],
      "execution_count": null,
      "outputs": []
    },
    {
      "cell_type": "code",
      "metadata": {
        "id": "Lbxh2rYoj3Yy"
      },
      "source": [
        "np.diag(d)"
      ],
      "execution_count": null,
      "outputs": []
    },
    {
      "cell_type": "markdown",
      "metadata": {
        "id": "6JN2VA3GNIP5"
      },
      "source": [
        "$D$ debe tener las mismas dimensiones que $A$ para que sea posible la multiplicación de matrices $UDV^T$:\n"
      ]
    },
    {
      "cell_type": "code",
      "metadata": {
        "id": "V47I3B87j3Y0"
      },
      "source": [
        "D = np.concatenate((np.diag(d), [[0, 0]]), axis=0)\n",
        "D"
      ],
      "execution_count": null,
      "outputs": []
    },
    {
      "cell_type": "code",
      "metadata": {
        "id": "9euCs5vvj3Y2"
      },
      "source": [
        "np.dot(U, np.dot(D, VT))"
      ],
      "execution_count": null,
      "outputs": []
    },
    {
      "cell_type": "markdown",
      "metadata": {
        "id": "u-WCBOzKj3Y3"
      },
      "source": [
        "La SVD y la eigencomposición están estrechamente relacionadas:\n",
        "\n",
        "* Vectores singulares izquierdos de $A$ = vectores propios de $AA^T$.\n",
        "* Vectores singulares derechos de $A$ = vectores propios de $A^TA$.\n",
        "* Valores singulares no nulos de $A$ = raíces cuadradas de los valores propios de $AA^T$ = raíces cuadradas de los valores propios de $A^TA$.\n",
        "\n",
        "**Ejercicio**: Utilizando la matriz `P` de los ejercicios PyTorch anteriores, demuestra que estas tres ecuaciones de SVD-eigendecomposición son ciertas."
      ]
    },
    {
      "cell_type": "markdown",
      "metadata": {
        "id": "CWEOMqUUj3Y3"
      },
      "source": [
        "### Compresión de Imágenes con SVD"
      ]
    },
    {
      "cell_type": "markdown",
      "metadata": {
        "id": "XmRvLo_Tj3Y3"
      },
      "source": [
        "La sección presenta código adaptado de [Frank Cleary's](https://gist.github.com/frankcleary/4d2bd178708503b556b0)."
      ]
    },
    {
      "cell_type": "code",
      "metadata": {
        "id": "luD8Y98Vj3Y3"
      },
      "source": [
        "from PIL import Image"
      ],
      "execution_count": null,
      "outputs": []
    },
    {
      "cell_type": "markdown",
      "metadata": {
        "id": "thPmYUx4j3Y4"
      },
      "source": [
        "Foto de Oboe, el terrier de Jon Krohn, con el libro *Aprendizaje Profundo Ilustrado*:"
      ]
    },
    {
      "cell_type": "code",
      "metadata": {
        "id": "bPUItNUVj3Y4"
      },
      "source": [
        "! wget https://raw.githubusercontent.com/joanby/DLTFpT/master/notebooks/oboe-with-book.jpg"
      ],
      "execution_count": null,
      "outputs": []
    },
    {
      "cell_type": "code",
      "metadata": {
        "id": "6lx_Frl6j3Y6"
      },
      "source": [
        "img = Image.open('oboe-with-book.jpg')\n",
        "_ = plt.imshow(img)"
      ],
      "execution_count": null,
      "outputs": []
    },
    {
      "cell_type": "markdown",
      "metadata": {
        "id": "XYmg1Fa8j3Y6"
      },
      "source": [
        "Convertir la imagen a escala de grises para no tener que lidiar con la complejidad de múltiples canales de color:"
      ]
    },
    {
      "cell_type": "code",
      "metadata": {
        "id": "uki3S6w0j3Y7"
      },
      "source": [
        "imggray = img.convert('LA')\n",
        "_ = plt.imshow(imggray)"
      ],
      "execution_count": null,
      "outputs": []
    },
    {
      "cell_type": "markdown",
      "metadata": {
        "id": "eVwgrA0Jj3Y9"
      },
      "source": [
        "Convierte los datos en una matriz numpy, que no afecta a los datos de la imagen:"
      ]
    },
    {
      "cell_type": "code",
      "metadata": {
        "id": "wHijyFgUj3Y9"
      },
      "source": [
        "imgmat = np.array(list(imggray.getdata(band=0)), float)\n",
        "imgmat.shape = (imggray.size[1], imggray.size[0])\n",
        "imgmat = np.matrix(imgmat)\n",
        "_ = plt.imshow(imgmat, cmap='gray')"
      ],
      "execution_count": null,
      "outputs": []
    },
    {
      "cell_type": "markdown",
      "metadata": {
        "id": "x8VCD3lyj3Y-"
      },
      "source": [
        "Calcular la SVD de la imagen:"
      ]
    },
    {
      "cell_type": "code",
      "metadata": {
        "id": "kbBLn2Csj3Y-"
      },
      "source": [
        "U, sigma, V = np.linalg.svd(imgmat)"
      ],
      "execution_count": null,
      "outputs": []
    },
    {
      "cell_type": "markdown",
      "metadata": {
        "id": "ApybkCdLj3Y-"
      },
      "source": [
        "Al igual que los valores propios se ordenan en orden descendente en diag($\\lambda$), también los valores singulares, por convención, se ordenan en orden descendente en $D$ (o, en este código, diag($\\sigma$)). Así, el primer vector singular izquierdo de $U$ y el primer vector singular derecho de $V$ pueden representar la característica más prominente de la imagen:"
      ]
    },
    {
      "cell_type": "code",
      "metadata": {
        "id": "rZTwlhGxj3Y_"
      },
      "source": [
        "reconstimg = np.matrix(U[:, :1]) * np.diag(sigma[:1]) * np.matrix(V[:1, :])\n",
        "_ = plt.imshow(reconstimg, cmap='gray')"
      ],
      "execution_count": null,
      "outputs": []
    },
    {
      "cell_type": "markdown",
      "metadata": {
        "id": "4p2cEqIoj3Y_"
      },
      "source": [
        "Los vectores singulares adicionales mejoran la calidad de la imagen:"
      ]
    },
    {
      "cell_type": "code",
      "metadata": {
        "id": "f5-6LEbij3ZA"
      },
      "source": [
        "for i in [2, 4, 8, 16, 32, 64]:\n",
        "    reconstimg = np.matrix(U[:, :i]) * np.diag(sigma[:i]) * np.matrix(V[:i, :])\n",
        "    plt.imshow(reconstimg, cmap='gray')\n",
        "    title = \"n = %s\" % i\n",
        "    plt.title(title)\n",
        "    plt.show()"
      ],
      "execution_count": null,
      "outputs": []
    },
    {
      "cell_type": "markdown",
      "metadata": {
        "id": "IjfUJ4wNj3ZA"
      },
      "source": [
        "Con 64 vectores singulares, la imagen se reconstruye bastante bien, aunque la huella de datos es mucho menor que la de la imagen original:"
      ]
    },
    {
      "cell_type": "code",
      "metadata": {
        "id": "hXQy4TzCj3ZB"
      },
      "source": [
        "imgmat.shape"
      ],
      "execution_count": null,
      "outputs": []
    },
    {
      "cell_type": "code",
      "metadata": {
        "id": "SXJtpYGeLWxz"
      },
      "source": [
        "full_representation = 4032*3024\n",
        "full_representation"
      ],
      "execution_count": null,
      "outputs": []
    },
    {
      "cell_type": "code",
      "metadata": {
        "id": "vOHZXITLLWx1"
      },
      "source": [
        "svd64_rep = 64*4032 + 64 + 64*3024\n",
        "svd64_rep"
      ],
      "execution_count": null,
      "outputs": []
    },
    {
      "cell_type": "code",
      "metadata": {
        "id": "YwdA6taLj3ZD"
      },
      "source": [
        "svd64_rep/full_representation"
      ],
      "execution_count": null,
      "outputs": []
    },
    {
      "cell_type": "markdown",
      "metadata": {
        "id": "_HdtL8p7j3ZD"
      },
      "source": [
        "En concreto, la imagen representada como 64 vectores singulares ocupa el 3,7% del tamaño del original.\n",
        "\n",
        "Además de imágenes, podemos utilizar vectores singulares para la compresión con pérdidas de otros tipos de archivos multimedia."
      ]
    },
    {
      "cell_type": "markdown",
      "metadata": {
        "id": "lBQnc4uGj3ZE"
      },
      "source": [
        "**Volver a las slides aquí.**"
      ]
    },
    {
      "cell_type": "markdown",
      "metadata": {
        "id": "FEnTYLbBj3ZE"
      },
      "source": [
        "### La Pseudoinversa de Moore-Penrose"
      ]
    },
    {
      "cell_type": "markdown",
      "metadata": {
        "id": "q4_MX4D5j3ZE"
      },
      "source": [
        "Vamos a calcular el pseudoinverso $A^+$ de alguna matriz $A$ utilizando la fórmula de las diapositivas:\n",
        "\n",
        "$A^+ = VD^+U^T$"
      ]
    },
    {
      "cell_type": "code",
      "metadata": {
        "id": "gbbiRcmzj3ZE"
      },
      "source": [
        "A"
      ],
      "execution_count": null,
      "outputs": []
    },
    {
      "cell_type": "markdown",
      "metadata": {
        "id": "TFNYVdZ4j3ZF"
      },
      "source": [
        "Como se mostró anteriormente, el método NumPy SVD devuelve $U$, $d$ y $V^T$:"
      ]
    },
    {
      "cell_type": "code",
      "metadata": {
        "id": "I6NjgNbjj3ZF"
      },
      "source": [
        "U, d, VT = np.linalg.svd(A)"
      ],
      "execution_count": null,
      "outputs": []
    },
    {
      "cell_type": "code",
      "metadata": {
        "id": "_sROQTAzj3ZG"
      },
      "source": [
        "U"
      ],
      "execution_count": null,
      "outputs": []
    },
    {
      "cell_type": "code",
      "metadata": {
        "id": "drDSW-vkj3ZG"
      },
      "source": [
        "VT"
      ],
      "execution_count": null,
      "outputs": []
    },
    {
      "cell_type": "code",
      "metadata": {
        "id": "Sr3jIv4Jj3ZH"
      },
      "source": [
        "d"
      ],
      "execution_count": null,
      "outputs": []
    },
    {
      "cell_type": "markdown",
      "metadata": {
        "id": "7yalmt19j3ZI"
      },
      "source": [
        "Para crear $D^+$, primero invertimos los valores distintos de cero de $d$:"
      ]
    },
    {
      "cell_type": "code",
      "metadata": {
        "id": "HEvRLwQfj3ZI"
      },
      "source": [
        "D = np.diag(d)\n",
        "D"
      ],
      "execution_count": null,
      "outputs": []
    },
    {
      "cell_type": "code",
      "metadata": {
        "id": "6O2LADtLj3ZJ"
      },
      "source": [
        "1/8.669"
      ],
      "execution_count": null,
      "outputs": []
    },
    {
      "cell_type": "code",
      "metadata": {
        "id": "y1ZbYtmIj3ZJ"
      },
      "source": [
        "1/4.104"
      ],
      "execution_count": null,
      "outputs": []
    },
    {
      "cell_type": "markdown",
      "metadata": {
        "id": "yO1tNES9j3ZK"
      },
      "source": [
        "...y luego tomaríamos el tranpuesto de la matriz resultante.\n",
        "\n",
        "Como $D$ es una matriz diagonal, esto se puede hacer en un solo paso invirtiendo $D$:"
      ]
    },
    {
      "cell_type": "code",
      "metadata": {
        "id": "Y0sjcP3Ej3ZK"
      },
      "source": [
        "Dinv = np.linalg.inv(D)\n",
        "Dinv"
      ],
      "execution_count": null,
      "outputs": []
    },
    {
      "cell_type": "markdown",
      "metadata": {
        "id": "PXJnvna-j3ZM"
      },
      "source": [
        "$D^+$ debe tener las mismas dimensiones que $A^T$ para que sea posible la multiplicación de matrices $VD^+U^T$:"
      ]
    },
    {
      "cell_type": "code",
      "metadata": {
        "id": "Ydq0zJHNRZPy"
      },
      "source": [
        "Dplus = np.concatenate((Dinv, np.array([[0, 0]]).T), axis=1)\n",
        "Dplus"
      ],
      "execution_count": null,
      "outputs": []
    },
    {
      "cell_type": "markdown",
      "metadata": {
        "id": "zFgtoJUKSRg1"
      },
      "source": [
        "(Recordemos que $D$ debe tener las mismas dimensiones que $A$ para $UDV^T$ de SVD, pero para MPP $U$ y $V$ han intercambiado lados alrededor de la matriz diagonal)."
      ]
    },
    {
      "cell_type": "markdown",
      "metadata": {
        "id": "6Xt4NYHuj3ZO"
      },
      "source": [
        "Ahora tenemos todo lo que necesitamos para calcular $A^+$ con $VD^+U^T$:"
      ]
    },
    {
      "cell_type": "code",
      "metadata": {
        "id": "ZtWN_wnij3ZO"
      },
      "source": [
        "np.dot(VT.T, np.dot(Dplus, U.T))"
      ],
      "execution_count": null,
      "outputs": []
    },
    {
      "cell_type": "markdown",
      "metadata": {
        "id": "3syT7-hCj3ZP"
      },
      "source": [
        "Trabajar esta derivación es útil para entender cómo funcionan los pseudoinversos de Moore-Penrose, pero como era de esperar NumPy se carga con un método existente `pinv()`:"
      ]
    },
    {
      "cell_type": "code",
      "metadata": {
        "id": "fh0nDMeLj3ZP"
      },
      "source": [
        "np.linalg.pinv(A)"
      ],
      "execution_count": null,
      "outputs": []
    },
    {
      "cell_type": "markdown",
      "metadata": {
        "id": "xNrIfpAij3ZS"
      },
      "source": [
        "**Ejercicio**\n",
        "\n",
        "Utiliza el método `torch.svd()` para calcular el pseudoinverso de `A_p`, confirmando que tu resultado coincide con la salida de `torch.pinverse(A_p)`:"
      ]
    },
    {
      "cell_type": "code",
      "metadata": {
        "id": "W2635vlEj3ZS"
      },
      "source": [
        "A_p = torch.tensor([[-1, 2], [3, -2], [5, 7.]])\n",
        "A_p"
      ],
      "execution_count": null,
      "outputs": []
    },
    {
      "cell_type": "code",
      "metadata": {
        "id": "ZW4SsUOlj3ZT"
      },
      "source": [
        "torch.pinverse(A_p)"
      ],
      "execution_count": null,
      "outputs": []
    },
    {
      "cell_type": "markdown",
      "metadata": {
        "id": "KlXBgI3Nj3ZT"
      },
      "source": [
        "**Volver a las slides aquí.**"
      ]
    },
    {
      "cell_type": "markdown",
      "metadata": {
        "id": "xMnIqjpfj3ZT"
      },
      "source": [
        "En los problemas de regresión, normalmente tenemos muchos más casos ($n$, o filas de $X$) que características que predecir (columnas de $X$). Resolvamos un ejemplo en miniatura de tal situación de sobredeterminación.\n",
        "\n",
        "Tenemos ocho puntos de datos ($n$ = 8):"
      ]
    },
    {
      "cell_type": "code",
      "metadata": {
        "id": "2Ft4PXaTj3ZU"
      },
      "source": [
        "x1 = [0, 1, 2, 3, 4, 5, 6, 7.] # E.g.: Dosage of drug for treating Alzheimer's disease\n",
        "y = [1.86, 1.31, .62, .33, .09, -.67, -1.23, -1.37] # E.g.: Patient's \"forgetfulness score\""
      ],
      "execution_count": null,
      "outputs": []
    },
    {
      "cell_type": "code",
      "metadata": {
        "id": "HaoEgLTzLWyH"
      },
      "source": [
        "title = 'Ensayo Clínico'\n",
        "xlabel = 'Dosis del Fármaco (mL)'\n",
        "ylabel = 'Olvido'"
      ],
      "execution_count": null,
      "outputs": []
    },
    {
      "cell_type": "code",
      "metadata": {
        "id": "OiMAISFBj3ZW"
      },
      "source": [
        "fig, ax = plt.subplots()\n",
        "plt.title(title)\n",
        "plt.xlabel(xlabel)\n",
        "plt.ylabel(ylabel)\n",
        "_ = ax.scatter(x1, y)"
      ],
      "execution_count": null,
      "outputs": []
    },
    {
      "cell_type": "markdown",
      "metadata": {
        "id": "GWZUFeqzj3ZX"
      },
      "source": [
        "Aunque parece que sólo hay un predictor ($x_1$), nuestro modelo requiere un segundo (llamémoslo $x_0$) para permitir una intersección $y$. Sin esta segunda variable, la línea que ajustamos al gráfico tendría que pasar por el origen (0, 0). La intersección $y$ es constante en todos los puntos, por lo que podemos establecerla igual a `1` en todos los puntos:"
      ]
    },
    {
      "cell_type": "code",
      "metadata": {
        "id": "RpAIoxydj3ZX"
      },
      "source": [
        "x0 = np.ones(8)\n",
        "x0"
      ],
      "execution_count": null,
      "outputs": []
    },
    {
      "cell_type": "markdown",
      "metadata": {
        "id": "_bkwC8Wnj3ZY"
      },
      "source": [
        "Concatenar $x_0$ y $x_1$ en una matriz $X$:"
      ]
    },
    {
      "cell_type": "code",
      "metadata": {
        "id": "x56TMNFMj3ZY"
      },
      "source": [
        "X = np.concatenate((np.matrix(x0).T, np.matrix(x1).T), axis=1)\n",
        "X"
      ],
      "execution_count": null,
      "outputs": []
    },
    {
      "cell_type": "markdown",
      "metadata": {
        "id": "v7TomkyCj3ZY"
      },
      "source": [
        "Por las diapositivas, sabemos que podemos calcular los pesos $w$ mediante la ecuación $w = X^+y$:"
      ]
    },
    {
      "cell_type": "code",
      "metadata": {
        "id": "iRYhw-N0j3ZZ"
      },
      "source": [
        "w = np.dot(np.linalg.pinv(X), y)\n",
        "w"
      ],
      "execution_count": null,
      "outputs": []
    },
    {
      "cell_type": "markdown",
      "metadata": {
        "id": "N2SoGsRNj3ZZ"
      },
      "source": [
        "La primera ponderación corresponde a la intersección $y$ de la recta, que suele denominarse $b$:"
      ]
    },
    {
      "cell_type": "code",
      "metadata": {
        "id": "nLvuVmBGj3ZZ"
      },
      "source": [
        "b = np.asarray(w).reshape(-1)[0]\n",
        "b"
      ],
      "execution_count": null,
      "outputs": []
    },
    {
      "cell_type": "markdown",
      "metadata": {
        "id": "96XCC8Z-j3Za"
      },
      "source": [
        "Mientras que el segundo peso corresponde a la pendiente de la línea, que se suele denotar como $m$:"
      ]
    },
    {
      "cell_type": "code",
      "metadata": {
        "id": "HHTNUSJCj3Za"
      },
      "source": [
        "m = np.asarray(w).reshape(-1)[1]\n",
        "m"
      ],
      "execution_count": null,
      "outputs": []
    },
    {
      "cell_type": "markdown",
      "metadata": {
        "id": "lvGCTZRqj3Zc"
      },
      "source": [
        "Con los pesos podemos trazar la recta para confirmar que se ajusta a los puntos:"
      ]
    },
    {
      "cell_type": "code",
      "metadata": {
        "id": "q9SAiUyej3Zc"
      },
      "source": [
        "fig, ax = plt.subplots()\n",
        "\n",
        "plt.title(title)\n",
        "plt.xlabel(xlabel)\n",
        "plt.ylabel(ylabel)\n",
        "\n",
        "ax.scatter(x1, y)\n",
        "\n",
        "x_min, x_max = ax.get_xlim()\n",
        "y_at_xmin = m*x_min + b\n",
        "y_at_xmax = m*x_max + b\n",
        "\n",
        "ax.set_xlim([x_min, x_max])\n",
        "_ = ax.plot([x_min, x_max], [y_at_xmin, y_at_xmax], c='C01')"
      ],
      "execution_count": null,
      "outputs": []
    },
    {
      "cell_type": "markdown",
      "metadata": {
        "id": "vNJJNtDzSh83"
      },
      "source": [
        "**NO VOLVEMOS a las slides aquí. Seguimos!!**"
      ]
    },
    {
      "cell_type": "markdown",
      "metadata": {
        "id": "rJnSV2afj3Zd"
      },
      "source": [
        "### El Operador Traza"
      ]
    },
    {
      "cell_type": "markdown",
      "metadata": {
        "id": "dq9uqorvj3Zd"
      },
      "source": [
        "Se denomina Tr($A$). Simplemente la suma de los elementos diagonales de una matriz: $$\\sum_i A_{i,i}$$"
      ]
    },
    {
      "cell_type": "code",
      "metadata": {
        "id": "vOdkry9ij3Zd"
      },
      "source": [
        "A = np.array([[25, 2], [5, 4]])\n",
        "A"
      ],
      "execution_count": null,
      "outputs": []
    },
    {
      "cell_type": "code",
      "metadata": {
        "id": "zwh8-KTNj3Ze"
      },
      "source": [
        "25 + 4"
      ],
      "execution_count": null,
      "outputs": []
    },
    {
      "cell_type": "code",
      "metadata": {
        "id": "7LxzUu37j3Zf"
      },
      "source": [
        "np.trace(A)"
      ],
      "execution_count": null,
      "outputs": []
    },
    {
      "cell_type": "markdown",
      "metadata": {
        "id": "dUeQKrYMj3Zg"
      },
      "source": [
        "El operador de traza tiene una serie de propiedades útiles que resultan prácticas al reordenar ecuaciones de álgebra lineal, por ejemplo\n",
        "\n",
        "* Tr($A$) = Tr($A^T$)\n",
        "* Suponiendo que las formas de la matriz se alinean: Tr($ABC$) = Tr($CAB$) = Tr($BCA$)"
      ]
    },
    {
      "cell_type": "markdown",
      "metadata": {
        "id": "kuKYTjskj3Zg"
      },
      "source": [
        "En particular, el operador de traza puede proporcionar una forma conveniente de calcular la norma de Frobenius de una matriz: $$||A||_F = \\sqrt{\\mathrm{Tr}(AA^\\mathrm{T})}$$"
      ]
    },
    {
      "cell_type": "markdown",
      "metadata": {
        "id": "JcqTZnimj3Zg"
      },
      "source": [
        "**Ejercicios**\n",
        "\n",
        "Con la matriz `A_p` proporcionada a continuación:\n",
        "\n",
        "1. Utiliza el método de trazas de PyTorch para calcular la traza de `A_p`.\n",
        "2. Utilizar el método de la norma de Frobenius de PyTorch y el método de la traza para demostrar que $||A||_F = \\sqrt{\\mathrm{Tr}(AA^\\mathrm{T})}$."
      ]
    },
    {
      "cell_type": "code",
      "metadata": {
        "id": "rQhYWOFvj3Zg"
      },
      "source": [
        "A_p"
      ],
      "execution_count": null,
      "outputs": []
    },
    {
      "cell_type": "markdown",
      "metadata": {
        "id": "QXuZgAUgj3Zh"
      },
      "source": [
        "**Volver a las slides aquí.**"
      ]
    },
    {
      "cell_type": "markdown",
      "metadata": {
        "id": "1rQOXPyaj3Zh"
      },
      "source": [
        "### Análisis de Componentes Principales"
      ]
    },
    {
      "cell_type": "markdown",
      "metadata": {
        "id": "X3_Etgo4j3Zh"
      },
      "source": [
        "El ejemplo de ACP está adaptado de [aquí](https://jupyter.brynmawr.edu/services/public/dblank/CS371%20Cognitive%20Science/2016-Fall/PCA.ipynb)."
      ]
    },
    {
      "cell_type": "code",
      "metadata": {
        "id": "ubl3WdRWj3Zh"
      },
      "source": [
        "from sklearn import datasets\n",
        "iris = datasets.load_iris()"
      ],
      "execution_count": null,
      "outputs": []
    },
    {
      "cell_type": "code",
      "metadata": {
        "id": "ZE2yvfEbj3Zi"
      },
      "source": [
        "iris.data.shape"
      ],
      "execution_count": null,
      "outputs": []
    },
    {
      "cell_type": "code",
      "metadata": {
        "id": "fa9fcMl2j3Zi"
      },
      "source": [
        "iris.get(\"feature_names\")"
      ],
      "execution_count": null,
      "outputs": []
    },
    {
      "cell_type": "code",
      "metadata": {
        "id": "8O9xwrOLj3Zj"
      },
      "source": [
        "iris.data[0:6,:]"
      ],
      "execution_count": null,
      "outputs": []
    },
    {
      "cell_type": "code",
      "metadata": {
        "id": "YoodmvRsj3Zj"
      },
      "source": [
        "from sklearn.decomposition import PCA"
      ],
      "execution_count": null,
      "outputs": []
    },
    {
      "cell_type": "code",
      "metadata": {
        "id": "PcJwICbtj3Zk"
      },
      "source": [
        "pca = PCA(n_components=2)"
      ],
      "execution_count": null,
      "outputs": []
    },
    {
      "cell_type": "code",
      "metadata": {
        "id": "bNb6txoIj3Zk"
      },
      "source": [
        "X = pca.fit_transform(iris.data)"
      ],
      "execution_count": null,
      "outputs": []
    },
    {
      "cell_type": "code",
      "metadata": {
        "id": "plS7skQGj3Zl"
      },
      "source": [
        "X.shape"
      ],
      "execution_count": null,
      "outputs": []
    },
    {
      "cell_type": "code",
      "metadata": {
        "id": "wC_j-7Xyj3Zl"
      },
      "source": [
        "X[0:6,:]"
      ],
      "execution_count": null,
      "outputs": []
    },
    {
      "cell_type": "code",
      "metadata": {
        "id": "O_aNxFn5j3Zm"
      },
      "source": [
        "_ = plt.scatter(X[:, 0], X[:, 1])"
      ],
      "execution_count": null,
      "outputs": []
    },
    {
      "cell_type": "code",
      "metadata": {
        "id": "bTck5c93j3Zm"
      },
      "source": [
        "iris.target.shape"
      ],
      "execution_count": null,
      "outputs": []
    },
    {
      "cell_type": "code",
      "metadata": {
        "id": "IzGhB6NTj3Zn"
      },
      "source": [
        "iris.target[0:6]"
      ],
      "execution_count": null,
      "outputs": []
    },
    {
      "cell_type": "code",
      "metadata": {
        "id": "DQ8oRWsWj3Zn"
      },
      "source": [
        "unique_elements, counts_elements = np.unique(iris.target, return_counts=True)\n",
        "np.asarray((unique_elements, counts_elements))"
      ],
      "execution_count": null,
      "outputs": []
    },
    {
      "cell_type": "code",
      "metadata": {
        "id": "VAIoVTYWj3Zo"
      },
      "source": [
        "list(iris.target_names)"
      ],
      "execution_count": null,
      "outputs": []
    },
    {
      "cell_type": "code",
      "metadata": {
        "id": "JlZX_2vQj3Zo"
      },
      "source": [
        "_ = plt.scatter(X[:, 0], X[:, 1], c=iris.target)"
      ],
      "execution_count": null,
      "outputs": []
    },
    {
      "cell_type": "markdown",
      "metadata": {
        "id": "w1Y8YA2oj3Zp"
      },
      "source": [
        "**Volver a las slides aquí.**"
      ]
    }
  ]
}